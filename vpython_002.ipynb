{
 "cells": [
  {
   "cell_type": "code",
   "execution_count": 1,
   "id": "a1e79a1e-a243-4c01-9348-5510e4aff2fb",
   "metadata": {},
   "outputs": [
    {
     "data": {
      "text/html": [
       "<div id=\"glowscript\" class=\"glowscript\"></div>"
      ],
      "text/plain": [
       "<IPython.core.display.HTML object>"
      ]
     },
     "metadata": {},
     "output_type": "display_data"
    },
    {
     "data": {
      "application/javascript": [
       "if (typeof Jupyter !== \"undefined\") { window.__context = { glowscript_container: $(\"#glowscript\").removeAttr(\"id\")};}else{ element.textContent = ' ';}"
      ],
      "text/plain": [
       "<IPython.core.display.Javascript object>"
      ]
     },
     "metadata": {},
     "output_type": "display_data"
    },
    {
     "data": {
      "text/html": [
       "<div id=\"glowscript\" class=\"glowscript\"></div>"
      ],
      "text/plain": [
       "<IPython.core.display.HTML object>"
      ]
     },
     "metadata": {},
     "output_type": "display_data"
    },
    {
     "data": {
      "application/javascript": [
       "if (typeof Jupyter !== \"undefined\") { window.__context = { glowscript_container: $(\"#glowscript\").removeAttr(\"id\")};}else{ element.textContent = ' ';}"
      ],
      "text/plain": [
       "<IPython.core.display.Javascript object>"
      ]
     },
     "metadata": {},
     "output_type": "display_data"
    }
   ],
   "source": [
    "#Simple animation\n",
    "from vpython import *\n",
    "canvas()\n",
    "shell=sphere(radius=2,color=color.red)\n",
    "sleep(3)\n",
    "shell.color=color.yellow\n",
    "sleep(3)\n",
    "shell.color=color.green"
   ]
  },
  {
   "cell_type": "code",
   "execution_count": 2,
   "id": "8ceb6128-bffc-4a8c-a045-851c146bed6c",
   "metadata": {},
   "outputs": [
    {
     "data": {
      "text/html": [
       "<div id=\"glowscript\" class=\"glowscript\"></div>"
      ],
      "text/plain": [
       "<IPython.core.display.HTML object>"
      ]
     },
     "metadata": {},
     "output_type": "display_data"
    },
    {
     "data": {
      "application/javascript": [
       "if (typeof Jupyter !== \"undefined\") { window.__context = { glowscript_container: $(\"#glowscript\").removeAttr(\"id\")};}else{ element.textContent = ' ';}"
      ],
      "text/plain": [
       "<IPython.core.display.Javascript object>"
      ]
     },
     "metadata": {},
     "output_type": "display_data"
    }
   ],
   "source": [
    "from vpython import *\n",
    "canvas()\n",
    "floor=box(pos=vector(0,-5,0),length=10,height=0.1,width=10)\n",
    "ceilimg=box(pos=vector(0,5,0),color=color.white,length=10,height=0.1,width=10)\n",
    "lWall=floor=box(pos=vector(-5,0,0),color=color.white,length=0.1,height=10,width=10)\n",
    "rWall=floor=box(pos=vector(5,0,0),color=color.white,length=0.1,height=10,width=10)\n",
    "bWall=floor=box(pos=vector(0,0,-5),color=color.white,length=10,height=10,width=0.1)\n",
    "marble=sphere(radius=1,color=color.red)"
   ]
  },
  {
   "cell_type": "code",
   "execution_count": 3,
   "id": "63181ec3-1861-4e9b-9070-1b5ebc53a896",
   "metadata": {},
   "outputs": [
    {
     "data": {
      "text/html": [
       "<div id=\"glowscript\" class=\"glowscript\"></div>"
      ],
      "text/plain": [
       "<IPython.core.display.HTML object>"
      ]
     },
     "metadata": {},
     "output_type": "display_data"
    },
    {
     "data": {
      "application/javascript": [
       "if (typeof Jupyter !== \"undefined\") { window.__context = { glowscript_container: $(\"#glowscript\").removeAttr(\"id\")};}else{ element.textContent = ' ';}"
      ],
      "text/plain": [
       "<IPython.core.display.Javascript object>"
      ]
     },
     "metadata": {},
     "output_type": "display_data"
    }
   ],
   "source": [
    "#using size()\n",
    "from vpython import *\n",
    "canvas()\n",
    "floor=box(pos=vector(0,-5,0),color=color.white,size=vector(10,0.1,10))\n",
    "ceilimg=box(pos=vector(0,5,0),color=color.white,size=vector(10,0.1,10))\n",
    "lWall=floor=box(pos=vector(-5,0,0),color=color.white,size=vector(0.1,10,10))\n",
    "rWall=floor=box(pos=vector(5,0,0),color=color.white,size=vector(0.1,10,10))\n",
    "bWall=floor=box(pos=vector(0,0,-5),color=color.white,size=vector(10,10,0.1))\n",
    "marble=sphere(radius=1,color=color.red)"
   ]
  },
  {
   "cell_type": "code",
   "execution_count": null,
   "id": "9d158813-c17d-4878-9024-200e1b6366c7",
   "metadata": {},
   "outputs": [
    {
     "data": {
      "text/html": [
       "<div id=\"glowscript\" class=\"glowscript\"></div>"
      ],
      "text/plain": [
       "<IPython.core.display.HTML object>"
      ]
     },
     "metadata": {},
     "output_type": "display_data"
    },
    {
     "data": {
      "application/javascript": [
       "if (typeof Jupyter !== \"undefined\") { window.__context = { glowscript_container: $(\"#glowscript\").removeAttr(\"id\")};}else{ element.textContent = ' ';}"
      ],
      "text/plain": [
       "<IPython.core.display.Javascript object>"
      ]
     },
     "metadata": {},
     "output_type": "display_data"
    }
   ],
   "source": [
    "#animating the marble\n",
    "#NOTE: close the program to stop the animation\n",
    "from vpython import *\n",
    "canvas()\n",
    "floor=box(pos=vector(0,-5,0),color=color.white,size=vector(10,0.1,10))\n",
    "ceilimg=box(pos=vector(0,5,0),color=color.white,size=vector(10,0.1,10))\n",
    "lWall=floor=box(pos=vector(-5,0,0),color=color.white,size=vector(0.1,10,10))\n",
    "rWall=floor=box(pos=vector(5,0,0),color=color.white,size=vector(0.1,10,10))\n",
    "bWall=floor=box(pos=vector(0,0,-5),color=color.white,size=vector(10,10,0.1))\n",
    "marble=sphere(radius=1,color=color.red)\n",
    "xPos=0\n",
    "x_delta=.1\n",
    "while True:\n",
    "    rate(50)\n",
    "    if (xPos>3.95 or xPos<-3.95):\n",
    "        x_delta*=-1\n",
    "    xPos+=x_delta\n",
    "    marble.pos=vector(xPos,0,0)"
   ]
  },
  {
   "cell_type": "code",
   "execution_count": null,
   "id": "0d95d155-b6a2-4e7b-a33a-c9cc238a48c3",
   "metadata": {},
   "outputs": [
    {
     "data": {
      "text/html": [
       "<div id=\"glowscript\" class=\"glowscript\"></div>"
      ],
      "text/plain": [
       "<IPython.core.display.HTML object>"
      ]
     },
     "metadata": {},
     "output_type": "display_data"
    },
    {
     "data": {
      "application/javascript": [
       "if (typeof Jupyter !== \"undefined\") { window.__context = { glowscript_container: $(\"#glowscript\").removeAttr(\"id\")};}else{ element.textContent = ' ';}"
      ],
      "text/plain": [
       "<IPython.core.display.Javascript object>"
      ]
     },
     "metadata": {},
     "output_type": "display_data"
    },
    {
     "data": {
      "text/html": [
       "<div id=\"glowscript\" class=\"glowscript\"></div>"
      ],
      "text/plain": [
       "<IPython.core.display.HTML object>"
      ]
     },
     "metadata": {},
     "output_type": "display_data"
    },
    {
     "data": {
      "application/javascript": [
       "if (typeof Jupyter !== \"undefined\") { window.__context = { glowscript_container: $(\"#glowscript\").removeAttr(\"id\")};}else{ element.textContent = ' ';}"
      ],
      "text/plain": [
       "<IPython.core.display.Javascript object>"
      ]
     },
     "metadata": {},
     "output_type": "display_data"
    }
   ],
   "source": [
    "#Parameterizing the 3d model (VERY IMPORTANT)\n",
    "#if you vary some independent parameters, the dependent parameters should also vary accordingly\n",
    "#otherwise, the program will show unexpected behaviour. \"Soultion:- use parameterized model\"\n",
    "#NOTE: close the program to stop the animation\n",
    "from vpython import *\n",
    "canvas()\n",
    "roomDepth=10     #vary the parameters to observe the changes\n",
    "roomWidth=10\n",
    "roomHeight=10\n",
    "wallThickness=0.1\n",
    "marbleRadius=1\n",
    "floor=box(pos=vector(0,-roomHeight/2,0),color=color.white,size=vector(roomWidth,wallThickness,roomDepth))\n",
    "ceilimg=box(pos=vector(0,roomHeight/2,0),color=color.white,size=vector(roomWidth,wallThickness,roomDepth))\n",
    "lWall=floor=box(pos=vector(-roomWidth/2,0,0),color=color.white,size=vector(wallThickness,roomHeight,roomDepth))\n",
    "rWall=floor=box(pos=vector(roomWidth/2,0,0),color=color.white,size=vector(wallThickness,roomHeight,roomDepth))\n",
    "bWall=floor=box(pos=vector(0,0,-roomDepth/2),color=color.white,size=vector(roomWidth,roomHeight,wallThickness))\n",
    "marble=sphere(radius=marbleRadius,color=color.red)\n",
    "xPos=0\n",
    "x_delta=.1\n",
    "while True:\n",
    "    rate(50)\n",
    "    rme=xPos+marbleRadius #rbe-right marble edge\n",
    "    lme=xPos-marbleRadius #lbe-left marble edge\n",
    "    rwe=roomWidth/2-wallThickness/2 #rwe=right wall edge\n",
    "    lwe=-rwe #lwe=left wall edge\n",
    "    if (rme>=rwe or lme<=lwe):\n",
    "        x_delta*=-1\n",
    "    xPos+=x_delta\n",
    "    marble.pos=vector(xPos,0,0)"
   ]
  }
 ],
 "metadata": {
  "kernelspec": {
   "display_name": "Python 3 (ipykernel)",
   "language": "python",
   "name": "python3"
  },
  "language_info": {
   "codemirror_mode": {
    "name": "ipython",
    "version": 3
   },
   "file_extension": ".py",
   "mimetype": "text/x-python",
   "name": "python",
   "nbconvert_exporter": "python",
   "pygments_lexer": "ipython3",
   "version": "3.12.7"
  }
 },
 "nbformat": 4,
 "nbformat_minor": 5
}
