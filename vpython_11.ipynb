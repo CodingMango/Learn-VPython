{
 "cells": [
  {
   "cell_type": "code",
   "execution_count": 1,
   "id": "9e14a731-33f2-43e4-9094-0490d375f366",
   "metadata": {},
   "outputs": [
    {
     "name": "stdout",
     "output_type": "stream",
     "text": [
      "1750076033.7419264\n",
      "time.struct_time(tm_year=2025, tm_mon=6, tm_mday=16, tm_hour=17, tm_min=43, tm_sec=53, tm_wday=0, tm_yday=167, tm_isdst=0)\n"
     ]
    }
   ],
   "source": [
    "#necessary things to know before buliding a accurate clock\n",
    "import time\n",
    "print(time.time())\n",
    "\n",
    "myTime=time.localtime(time.time())\n",
    "print(myTime)\n",
    "#myTime[3] is hour\n",
    "#myTime[4] is min\n",
    "#myTime[5] is sec"
   ]
  },
  {
   "cell_type": "code",
   "execution_count": null,
   "id": "06c3a64d-7ece-4c67-920f-f8360c06b589",
   "metadata": {},
   "outputs": [
    {
     "data": {
      "text/html": [
       "<div id=\"glowscript\" class=\"glowscript\"></div>"
      ],
      "text/plain": [
       "<IPython.core.display.HTML object>"
      ]
     },
     "metadata": {},
     "output_type": "display_data"
    },
    {
     "data": {
      "application/javascript": [
       "if (typeof Jupyter !== \"undefined\") { window.__context = { glowscript_container: $(\"#glowscript\").removeAttr(\"id\")};}else{ element.textContent = ' ';}"
      ],
      "text/plain": [
       "<IPython.core.display.Javascript object>"
      ]
     },
     "metadata": {},
     "output_type": "display_data"
    },
    {
     "data": {
      "text/html": [
       "<div id=\"glowscript\" class=\"glowscript\"></div>"
      ],
      "text/plain": [
       "<IPython.core.display.HTML object>"
      ]
     },
     "metadata": {},
     "output_type": "display_data"
    },
    {
     "data": {
      "application/javascript": [
       "if (typeof Jupyter !== \"undefined\") { window.__context = { glowscript_container: $(\"#glowscript\").removeAttr(\"id\")};}else{ element.textContent = ' ';}"
      ],
      "text/plain": [
       "<IPython.core.display.Javascript object>"
      ]
     },
     "metadata": {},
     "output_type": "display_data"
    }
   ],
   "source": [
    "#Accurate clock-1\n",
    "from vpython import *\n",
    "import numpy as np\n",
    "canvas()\n",
    "faceRad=2\n",
    "faceThickness=faceRad/10\n",
    "\n",
    "Major_tickLength=faceRad/10\n",
    "Major_tickHeight=2*np.pi*faceRad/400\n",
    "Major_tickWidth=faceThickness*1.2\n",
    "\n",
    "Minor_tickLength=faceRad/12\n",
    "Minor_tickHeight=2*np.pi*faceRad/400\n",
    "Minor_tickWidth=faceThickness*1.2\n",
    "\n",
    "minHandL=faceRad-Major_tickLength\n",
    "minHandT=minHandL/30\n",
    "hourHandL=minHandL*.75\n",
    "hourHandT=minHandT*1.25\n",
    "secHandL=hourHandL\n",
    "secHandT=minHandT*0.5\n",
    "\n",
    "minAngle=np.pi/2\n",
    "minInc=-0.001 #notice minus '-' sign here\n",
    "hourAngle=np.pi/2\n",
    "hourInc=minInc/12 #because 'hour hand' sweeps 1/12th of the clock for 1 'min hand' revolution\n",
    "secAngle=np.pi/2\n",
    "secInc=minInc*60  #because 'seconds hand' sweeps 60 full revolutions of the clock for 1 'min hand' revolution\n",
    "\n",
    "face=cylinder(axis=vector(0,0,1),length=faceThickness, radius=faceRad,color=color.cyan,pos=vector(0,0,-faceThickness/2))\n",
    "minHand=arrow(length=minHandL,shaftwidth=minHandT,pos=vector(0,0,faceThickness/2+minHandT/2),color=color.orange)\n",
    "hourHand=arrow(length=hourHandL,shaftwidth=hourHandT,pos=vector(0,0,faceThickness/2+hourHandT/2),color=color.red)\n",
    "secHand=arrow(length=secHandL,shaftwidth=secHandT,pos=vector(0,0,faceThickness/2+secHandT/2),color=vector(1,1,0))\n",
    "hub=cylinder(axis=vector(0,0,1), length=faceThickness/2,radius=faceRad/25, pos=vector(0,0,faceThickness/2),color=color.black)\n",
    "#for major ticks\n",
    "for i in np.linspace(0,2*np.pi,13):\n",
    "    box(length=Major_tickLength, width=Major_tickWidth, height=Major_tickHeight, color=color.black, axis=vector(np.cos(i),np.sin(i),0), pos=vector(np.cos(i)*(faceRad-Major_tickLength/2),np.sin(i)*(faceRad-Major_tickLength/2),0))\n",
    "#for minor ticks\n",
    "for i in np.linspace(0,2*np.pi,61):\n",
    "    box(length=Minor_tickLength/2, width=Minor_tickWidth, height=Minor_tickHeight, color=color.black, axis=vector(np.cos(i),np.sin(i),0), pos=vector(np.cos(i)*(faceRad-Minor_tickLength/3),np.sin(i)*(faceRad-Minor_tickLength/3),0))\n",
    "\n",
    "#animation part\n",
    "while True:\n",
    "    rate(1) #keep the as 1 to get the time accurate\n",
    "    myTime=time.localtime(time.time())\n",
    "    secAngle=np.pi/2-(2*np.pi/60*myTime[5])\n",
    "    minAngle=np.pi/2-(2*np.pi/60*myTime[4])\n",
    "    hourAngle=np.pi/2-(2*np.pi/12*(myTime[3]%12))\n",
    "\n",
    "    #for sec hand movement\n",
    "    secHand.axis=vector(np.cos(secAngle),np.sin(secAngle),0)\n",
    "    secHand.length=secHandL\n",
    "    #for min hand movement\n",
    "    minHand.axis=vector(np.cos(minAngle),np.sin(minAngle),0)\n",
    "    minHand.length=minHandL\n",
    "    #for hour hand movement\n",
    "    hourHand.axis=vector(np.cos(hourAngle),np.sin(hourAngle),0)\n",
    "    hourHand.length=hourHandL\n",
    "\n",
    "#NOTE: clock is showing the exact time as your pc/desktop shows\n",
    "#NOTICE the hand movement of the clcok is not accutate\n",
    "#for example: In this clock the 'hour hand' will not move until the 'min hand' completes 1 revoultion(which does not happen in reallife analog clock)"
   ]
  },
  {
   "cell_type": "code",
   "execution_count": null,
   "id": "e61c6932-05fc-431e-bd68-43a39825b6c2",
   "metadata": {},
   "outputs": [
    {
     "data": {
      "text/html": [
       "<div id=\"glowscript\" class=\"glowscript\"></div>"
      ],
      "text/plain": [
       "<IPython.core.display.HTML object>"
      ]
     },
     "metadata": {},
     "output_type": "display_data"
    },
    {
     "data": {
      "application/javascript": [
       "if (typeof Jupyter !== \"undefined\") { window.__context = { glowscript_container: $(\"#glowscript\").removeAttr(\"id\")};}else{ element.textContent = ' ';}"
      ],
      "text/plain": [
       "<IPython.core.display.Javascript object>"
      ]
     },
     "metadata": {},
     "output_type": "display_data"
    }
   ],
   "source": [
    "#correcting the hand movement for accurate clock-1\n",
    "from vpython import *\n",
    "import numpy as np\n",
    "import time\n",
    "canvas()\n",
    "faceRad=2\n",
    "faceThickness=faceRad/10\n",
    "\n",
    "Major_tickLength=faceRad/10\n",
    "Major_tickHeight=2*np.pi*faceRad/400\n",
    "Major_tickWidth=faceThickness*1.2\n",
    "\n",
    "Minor_tickLength=faceRad/12\n",
    "Minor_tickHeight=2*np.pi*faceRad/400\n",
    "Minor_tickWidth=faceThickness*1.2\n",
    "\n",
    "minHandL=faceRad-Major_tickLength\n",
    "minHandT=minHandL/30\n",
    "hourHandL=minHandL*.75\n",
    "hourHandT=minHandT*1.25\n",
    "secHandL=hourHandL\n",
    "secHandT=minHandT*0.5\n",
    "\n",
    "minAngle=np.pi/2\n",
    "minInc=-0.001 #notice minus '-' sign here\n",
    "hourAngle=np.pi/2\n",
    "hourInc=minInc/12 #because 'hour hand' sweeps 1/12th of the clock for 1 'min hand' revolution\n",
    "secAngle=np.pi/2\n",
    "secInc=minInc*60  #because 'seconds hand' sweeps 60 full revolutions of the clock for 1 'min hand' revolution\n",
    "\n",
    "face=cylinder(axis=vector(0,0,1),length=faceThickness, radius=faceRad,color=color.cyan,pos=vector(0,0,-faceThickness/2))\n",
    "minHand=arrow(length=minHandL,shaftwidth=minHandT,pos=vector(0,0,faceThickness/2+minHandT/2),color=color.orange)\n",
    "hourHand=arrow(length=hourHandL,shaftwidth=hourHandT,pos=vector(0,0,faceThickness/2+hourHandT/2),color=color.red)\n",
    "secHand=arrow(length=secHandL,shaftwidth=secHandT,pos=vector(0,0,faceThickness/2+secHandT/2),color=vector(1,1,0))\n",
    "hub=cylinder(axis=vector(0,0,1), length=faceThickness/2,radius=faceRad/25, pos=vector(0,0,faceThickness/2),color=color.black)\n",
    "#for major ticks\n",
    "for i in np.linspace(0,2*np.pi,13):\n",
    "    box(length=Major_tickLength, width=Major_tickWidth, height=Major_tickHeight, color=color.black, axis=vector(np.cos(i),np.sin(i),0), pos=vector(np.cos(i)*(faceRad-Major_tickLength/2),np.sin(i)*(faceRad-Major_tickLength/2),0))\n",
    "#for minor ticks\n",
    "for i in np.linspace(0,2*np.pi,61):\n",
    "    box(length=Minor_tickLength/2, width=Minor_tickWidth, height=Minor_tickHeight, color=color.black, axis=vector(np.cos(i),np.sin(i),0), pos=vector(np.cos(i)*(faceRad-Minor_tickLength/3),np.sin(i)*(faceRad-Minor_tickLength/3),0))\n",
    "\n",
    "#animation part\n",
    "while True:\n",
    "    rate(1) #keep the as 1 to get the time accurate\n",
    "    myTime=time.localtime(time.time())\n",
    "    secAngle=np.pi/2-(2*np.pi/60*myTime[5])\n",
    "    minInc=(2*np.pi/60/60)*myTime[5]\n",
    "    minAngle=np.pi/2-(2*np.pi/60*myTime[4]) - minInc\n",
    "    hourInc=((2*np.pi/12)/60)*myTime[4]\n",
    "    hourAngle=np.pi/2-(2*np.pi/12*(myTime[3]%12)) - hourInc\n",
    "\n",
    "    #for sec hand movement\n",
    "    secHand.axis=vector(np.cos(secAngle),np.sin(secAngle),0)\n",
    "    secHand.length=faceRad-Major_tickLength\n",
    "    #for min hand movement\n",
    "    minHand.axis=vector(np.cos(minAngle),np.sin(minAngle),0)\n",
    "    minHand.length=faceRad-Major_tickLength\n",
    "    #for hour hand movement\n",
    "    hourHand.axis=vector(np.cos(hourAngle),np.sin(hourAngle),0)\n",
    "    hourHand.length=faceRad-Major_tickLength\n",
    "\n",
    "#NOTE: the clock will work as usual real life analog clock"
   ]
  },
  {
   "cell_type": "code",
   "execution_count": null,
   "id": "982100ea-7e53-4fb1-976c-183a744c7796",
   "metadata": {},
   "outputs": [
    {
     "data": {
      "text/html": [
       "<div id=\"glowscript\" class=\"glowscript\"></div>"
      ],
      "text/plain": [
       "<IPython.core.display.HTML object>"
      ]
     },
     "metadata": {},
     "output_type": "display_data"
    },
    {
     "data": {
      "application/javascript": [
       "if (typeof Jupyter !== \"undefined\") { window.__context = { glowscript_container: $(\"#glowscript\").removeAttr(\"id\")};}else{ element.textContent = ' ';}"
      ],
      "text/plain": [
       "<IPython.core.display.Javascript object>"
      ]
     },
     "metadata": {},
     "output_type": "display_data"
    },
    {
     "data": {
      "text/html": [
       "<div id=\"glowscript\" class=\"glowscript\"></div>"
      ],
      "text/plain": [
       "<IPython.core.display.HTML object>"
      ]
     },
     "metadata": {},
     "output_type": "display_data"
    },
    {
     "data": {
      "application/javascript": [
       "if (typeof Jupyter !== \"undefined\") { window.__context = { glowscript_container: $(\"#glowscript\").removeAttr(\"id\")};}else{ element.textContent = ' ';}"
      ],
      "text/plain": [
       "<IPython.core.display.Javascript object>"
      ]
     },
     "metadata": {},
     "output_type": "display_data"
    }
   ],
   "source": [
    "#Accurate clock-2\n",
    "from vpython import *\n",
    "import numpy as np\n",
    "import time\n",
    "canvas()\n",
    "faceRad=5\n",
    "faceThickness=0.5\n",
    "tickLength=faceRad/25\n",
    "tickHeight=tickLength/2\n",
    "tickWidth=faceThickness/2.25\n",
    "border=cylinder(axis=vector(0,0,1),length=faceThickness-0.05, radius=faceRad*1.075,color=vector(0.5,0.5,0.5))#border should be placed before than the clock's face.\n",
    "face=cylinder(axis=vector(0,0,1),length=faceThickness, radius=faceRad)\n",
    "pivot=cylinder(axis=vector(0,0,1),length=faceThickness/2,radius=faceRad/20,color=color.black,pos=vector(0,0,faceThickness))\n",
    "#for ticks\n",
    "for i, angle in enumerate(np.linspace(0,2*np.pi,60,endpoint=False)):\n",
    "    if i%5!=0:\n",
    "        box(length=tickLength,height=tickHeight,width=tickWidth,color=color.black,axis=vector(np.cos(angle),np.sin(angle),0),pos=vector(np.cos(angle)*(faceRad-tickLength),np.sin(angle)*(faceRad-tickLength),faceThickness))\n",
    "    if i%5==0:\n",
    "        box(length=tickLength*2,height=tickHeight,width=tickWidth,color=color.black,axis=vector(np.cos(angle),np.sin(angle),0),pos=vector(np.cos(angle)*(faceRad-tickLength),np.sin(angle)*(faceRad-tickLength),faceThickness))\n",
    "#minute hand\n",
    "minHand=cylinder(length=faceRad-tickLength*2,height=faceRad/30,width=faceThickness/2, color=color.orange,pos=vector(0,0,faceThickness*1.25))\n",
    "#hour hand\n",
    "hourHand=cylinder(length=faceRad-tickLength*2,height=faceRad/20,width=faceThickness/2, color=color.red,pos=vector(0,0,faceThickness*1.25))\n",
    "#second hand\n",
    "secHand=cylinder(length=faceRad-tickLength*2,height=faceRad/40,width=faceThickness/2, color=vector(1,1,0),pos=vector(0,0,faceThickness*1.25))\n",
    "\n",
    "while True:\n",
    "    rate(1) #keep the as 1 to get the time accurate\n",
    "    myTime=time.localtime(time.time())\n",
    "    secAngle=np.pi/2-(2*np.pi/60*myTime[5])\n",
    "    minAngle=np.pi/2-(2*np.pi/60*myTime[4])\n",
    "    hourAngle=np.pi/2-(2*np.pi/12*(myTime[3]%12))\n",
    "\n",
    "    #for sec hand movement\n",
    "    secHand.axis=vector(np.cos(secAngle),np.sin(secAngle),0)\n",
    "    secHand.length=faceRad-tickLength*2\n",
    "    #for min hand movement\n",
    "    minHand.axis=vector(np.cos(minAngle),np.sin(minAngle),0)\n",
    "    minHand.length=faceRad-tickLength*2\n",
    "    #for hour hand movement\n",
    "    hourHand.axis=vector(np.cos(hourAngle),np.sin(hourAngle),0)\n",
    "    hourHand.length=faceRad-tickLength*2\n",
    "    \n",
    "#NOTE: clock is showing the exact time as your pc/desktop shows\n",
    "#NOTICE the hand movement of the clcok is not accutate\n",
    "#for example: In this clock the 'hour hand' will not move until the 'min hand' completes 1 revoultion(which does not happen in reallife analog clock)"
   ]
  },
  {
   "cell_type": "code",
   "execution_count": null,
   "id": "3acf4204-e823-4701-aa35-6e11644c96fe",
   "metadata": {},
   "outputs": [
    {
     "data": {
      "text/html": [
       "<div id=\"glowscript\" class=\"glowscript\"></div>"
      ],
      "text/plain": [
       "<IPython.core.display.HTML object>"
      ]
     },
     "metadata": {},
     "output_type": "display_data"
    },
    {
     "data": {
      "application/javascript": [
       "if (typeof Jupyter !== \"undefined\") { window.__context = { glowscript_container: $(\"#glowscript\").removeAttr(\"id\")};}else{ element.textContent = ' ';}"
      ],
      "text/plain": [
       "<IPython.core.display.Javascript object>"
      ]
     },
     "metadata": {},
     "output_type": "display_data"
    },
    {
     "data": {
      "text/html": [
       "<div id=\"glowscript\" class=\"glowscript\"></div>"
      ],
      "text/plain": [
       "<IPython.core.display.HTML object>"
      ]
     },
     "metadata": {},
     "output_type": "display_data"
    },
    {
     "data": {
      "application/javascript": [
       "if (typeof Jupyter !== \"undefined\") { window.__context = { glowscript_container: $(\"#glowscript\").removeAttr(\"id\")};}else{ element.textContent = ' ';}"
      ],
      "text/plain": [
       "<IPython.core.display.Javascript object>"
      ]
     },
     "metadata": {},
     "output_type": "display_data"
    }
   ],
   "source": [
    "#correcting the hand movement for accurate clock-2\n",
    "from vpython import *\n",
    "import numpy as np\n",
    "import time\n",
    "canvas()\n",
    "faceRad=5\n",
    "faceThickness=0.5\n",
    "tickLength=faceRad/25\n",
    "tickHeight=tickLength/2\n",
    "tickWidth=faceThickness/2.25\n",
    "border=cylinder(axis=vector(0,0,1),length=faceThickness-0.05, radius=faceRad*1.075,color=vector(0.5,0.5,0.5))#border should be placed before than the clock's face.\n",
    "face=cylinder(axis=vector(0,0,1),length=faceThickness, radius=faceRad)\n",
    "pivot=cylinder(axis=vector(0,0,1),length=faceThickness/2,radius=faceRad/20,color=color.black,pos=vector(0,0,faceThickness))\n",
    "#for ticks\n",
    "for i, angle in enumerate(np.linspace(0,2*np.pi,60,endpoint=False)):\n",
    "    if i%5!=0:\n",
    "        box(length=tickLength,height=tickHeight,width=tickWidth,color=color.black,axis=vector(np.cos(angle),np.sin(angle),0),pos=vector(np.cos(angle)*(faceRad-tickLength),np.sin(angle)*(faceRad-tickLength),faceThickness))\n",
    "    if i%5==0:\n",
    "        box(length=tickLength*2,height=tickHeight,width=tickWidth,color=color.black,axis=vector(np.cos(angle),np.sin(angle),0),pos=vector(np.cos(angle)*(faceRad-tickLength),np.sin(angle)*(faceRad-tickLength),faceThickness))\n",
    "#minute hand\n",
    "minHand=cylinder(length=faceRad-tickLength*2,height=faceRad/30,width=faceThickness/2, color=color.orange,pos=vector(0,0,faceThickness*1.25))\n",
    "#hour hand\n",
    "hourHand=cylinder(length=faceRad-tickLength*2,height=faceRad/20,width=faceThickness/2, color=color.red,pos=vector(0,0,faceThickness*1.25))\n",
    "#second hand\n",
    "secHand=cylinder(length=faceRad-tickLength*2,height=faceRad/40,width=faceThickness/2, color=vector(1,1,0),pos=vector(0,0,faceThickness*1.25))\n",
    "\n",
    "\n",
    "\n",
    "while True:\n",
    "    rate(1) #keep the as 1 to get the time accurate\n",
    "    myTime=time.localtime(time.time())\n",
    "    secAngle=np.pi/2-(2*np.pi/60*myTime[5])\n",
    "    minInc=(2*np.pi/60/60)*myTime[5]\n",
    "    minAngle=np.pi/2-(2*np.pi/60*myTime[4]) - minInc\n",
    "    hourInc=((2*np.pi/12)/60)*myTime[4]\n",
    "    hourAngle=np.pi/2-(2*np.pi/12*(myTime[3]%12)) - hourInc\n",
    "    \n",
    "    #for sec hand movement\n",
    "    secHand.axis=vector(np.cos(secAngle),np.sin(secAngle),0)\n",
    "    secHand.length=faceRad-tickLength*2\n",
    "    #for min hand movement\n",
    "    minHand.axis=vector(np.cos(minAngle),np.sin(minAngle),0)\n",
    "    minHand.length=faceRad-tickLength*2\n",
    "    #for hour hand movement\n",
    "    hourHand.axis=vector(np.cos(hourAngle),np.sin(hourAngle),0)\n",
    "    hourHand.length=faceRad-tickLength*2\n",
    "    \n",
    "#NOTE: the clock will work as usual real life analog clock"
   ]
  }
 ],
 "metadata": {
  "kernelspec": {
   "display_name": "Python 3 (ipykernel)",
   "language": "python",
   "name": "python3"
  },
  "language_info": {
   "codemirror_mode": {
    "name": "ipython",
    "version": 3
   },
   "file_extension": ".py",
   "mimetype": "text/x-python",
   "name": "python",
   "nbconvert_exporter": "python",
   "pygments_lexer": "ipython3",
   "version": "3.12.7"
  }
 },
 "nbformat": 4,
 "nbformat_minor": 5
}
