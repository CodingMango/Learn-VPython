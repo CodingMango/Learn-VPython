{
 "cells": [
  {
   "cell_type": "code",
   "execution_count": null,
   "id": "4ef5fc8e-5914-4711-9f4c-3dc50f3d1549",
   "metadata": {},
   "outputs": [
    {
     "data": {
      "text/html": [
       "<div id=\"glowscript\" class=\"glowscript\"></div>"
      ],
      "text/plain": [
       "<IPython.core.display.HTML object>"
      ]
     },
     "metadata": {},
     "output_type": "display_data"
    },
    {
     "data": {
      "application/javascript": [
       "if (typeof Jupyter !== \"undefined\") { window.__context = { glowscript_container: $(\"#glowscript\").removeAttr(\"id\")};}else{ element.textContent = ' ';}"
      ],
      "text/plain": [
       "<IPython.core.display.Javascript object>"
      ]
     },
     "metadata": {},
     "output_type": "display_data"
    },
    {
     "data": {
      "text/html": [
       "<div id=\"glowscript\" class=\"glowscript\"></div>"
      ],
      "text/plain": [
       "<IPython.core.display.HTML object>"
      ]
     },
     "metadata": {},
     "output_type": "display_data"
    },
    {
     "data": {
      "application/javascript": [
       "if (typeof Jupyter !== \"undefined\") { window.__context = { glowscript_container: $(\"#glowscript\").removeAttr(\"id\")};}else{ element.textContent = ' ';}"
      ],
      "text/plain": [
       "<IPython.core.display.Javascript object>"
      ]
     },
     "metadata": {},
     "output_type": "display_data"
    }
   ],
   "source": [
    "#Dual animation\n",
    "from vpython import *\n",
    "canvas()\n",
    "#Thermometer-1\n",
    "tube_1=cylinder(radius=0.3,length=10,opacity=0.5,pos=vector(0,3,0))\n",
    "bulb_1=sphere(radius=0.5,opacity=0.5,pos=vector(-0.4,3,0))\n",
    "bulb_inside_1=sphere(radius=0.35,color=color.red,pos=vector(-0.4,3,0))\n",
    "mercury_1=cylinder(radius=0.1,length=10,color=color.red,pos=vector(-0.4,3,0))\n",
    "for markings in range(0,10):\n",
    "    box(size=vector(0.1,0.1,0.1),pos=vector(0.6+markings,3,0.3))\n",
    "\n",
    "#Thermometer-2\n",
    "tube_2=cylinder(radius=0.3,length=10,opacity=0.5,pos=vector(0,-3,0))\n",
    "bulb_2=sphere(radius=0.5,opacity=0.5,pos=vector(-0.4,-3,0))\n",
    "bulb_inside_2=sphere(radius=0.35,color=color.orange,pos=vector(-0.4,-3,0))\n",
    "mercury_2=cylinder(radius=0.1,length=10,color=color.orange,pos=vector(-0.4,-3,0))\n",
    "for markings in range(0,10):\n",
    "    box(size=vector(0.1,0.1,0.1),pos=vector(0.6+markings,-3,0.3))\n",
    "\n",
    "length_1=1\n",
    "length_2=1\n",
    "mercuryChange_1=0.01\n",
    "mercuryChange_2=0.02 #Twice as fast as the first one\n",
    "#animating part\n",
    "while True:\n",
    "    rate(100)\n",
    "    length_1+=mercuryChange_1\n",
    "    length_2+=mercuryChange_2\n",
    "    mercury_1.length=length_1\n",
    "    if(mercury_1.length<=0.1 or mercury_1.length>10): #NOTE: Dont put min length as 0 instead keep it like 0.1 or something.\n",
    "        mercuryChange_1*=-1                       #Because, at length=0 the cylinder vanishes(will delete) from the model causing unexpected behaviour\n",
    "    mercury_2.length=length_2\n",
    "    if(mercury_2.length<=0.1 or mercury_2.length>10):\n",
    "        mercuryChange_2*=-1"
   ]
  },
  {
   "cell_type": "code",
   "execution_count": null,
   "id": "81e8fdca-8f54-459d-9960-a4ccae3f24be",
   "metadata": {},
   "outputs": [],
   "source": [
    "#NOTE: using threading in vpython will not work as expectesd, the animation may not work smooth\n",
    "#Although I have written two examples below to show how to use threading (incase)\n",
    "\n",
    "#Animation of two thermometers-1\n",
    "from vpython import *\n",
    "canvas()\n",
    "\n",
    "#Thermometer-1\n",
    "tube_1=cylinder(radius=0.3,length=10,opacity=0.5,pos=vector(0,3,0))\n",
    "bulb_1=sphere(radius=0.5,opacity=0.5,pos=vector(-0.4,3,0))\n",
    "bulb_inside_1=sphere(radius=0.35,color=color.red,pos=vector(-0.4,3,0))\n",
    "mercury_1=cylinder(radius=0.1,length=10,color=color.red,pos=vector(-0.4,3,0))\n",
    "for markings in range(0,10):\n",
    "    box(size=vector(0.1,0.1,0.1),pos=vector(0.6+markings,3,0.3))\n",
    "\n",
    "#Thermometer-2\n",
    "tube_2=cylinder(radius=0.3,length=10,opacity=0.5,pos=vector(0,-3,0))\n",
    "bulb_2=sphere(radius=0.5,opacity=0.5,pos=vector(-0.4,-3,0))\n",
    "bulb_inside_2=sphere(radius=0.35,color=color.orange,pos=vector(-0.4,-3,0))\n",
    "mercury_2=cylinder(radius=0.1,length=10,color=color.orange,pos=vector(-0.4,-3,0))\n",
    "for markings in range(0,10):\n",
    "    box(size=vector(0.1,0.1,0.1),pos=vector(0.6+markings,-3,0.3))\n",
    "\n",
    "#animating part (raising and dropping of the temperature for thermometer-1)\n",
    "def temp1():\n",
    "    deltaLength_1=0.1\n",
    "    while True:\n",
    "        rate(250)\n",
    "        if(mercury_1.length<=0.1 or mercury_1.length>=10):\n",
    "            deltaLength_1*=-1\n",
    "        mercury_1.length=max(mercury_1.length+deltaLength_1,0.1)\n",
    "        \n",
    "#animating part (raising and dropping of the temperature for thermometer-2)\n",
    "def temp2():\n",
    "    deltaLength_2=0.2\n",
    "    while True:\n",
    "        rate(250)\n",
    "        if(mercury_2.length<=0.1 or mercury_2.length>=10):\n",
    "            deltaLength_2*=-1\n",
    "        mercury_2.length=max(mercury_2.length+deltaLength_2,0.1)\n",
    "        \n",
    "from threading import Thread\n",
    "thermometer1=Thread(target=temp1, daemon=True)\n",
    "thermometer2=Thread(target=temp2, daemon=True)\n",
    "thermometer1.start()\n",
    "thermometer2.start()\n",
    "while True:\n",
    "    pass\n"
   ]
  },
  {
   "cell_type": "code",
   "execution_count": null,
   "id": "860af937-770b-4dd9-9a03-231a6ea97cd4",
   "metadata": {},
   "outputs": [
    {
     "data": {
      "text/html": [
       "<div id=\"glowscript\" class=\"glowscript\"></div>"
      ],
      "text/plain": [
       "<IPython.core.display.HTML object>"
      ]
     },
     "metadata": {},
     "output_type": "display_data"
    },
    {
     "data": {
      "application/javascript": [
       "if (typeof Jupyter !== \"undefined\") { window.__context = { glowscript_container: $(\"#glowscript\").removeAttr(\"id\")};}else{ element.textContent = ' ';}"
      ],
      "text/plain": [
       "<IPython.core.display.Javascript object>"
      ]
     },
     "metadata": {},
     "output_type": "display_data"
    },
    {
     "data": {
      "text/html": [
       "<div id=\"glowscript\" class=\"glowscript\"></div>"
      ],
      "text/plain": [
       "<IPython.core.display.HTML object>"
      ]
     },
     "metadata": {},
     "output_type": "display_data"
    },
    {
     "data": {
      "application/javascript": [
       "if (typeof Jupyter !== \"undefined\") { window.__context = { glowscript_container: $(\"#glowscript\").removeAttr(\"id\")};}else{ element.textContent = ' ';}"
      ],
      "text/plain": [
       "<IPython.core.display.Javascript object>"
      ]
     },
     "metadata": {},
     "output_type": "display_data"
    }
   ],
   "source": [
    "#Animation of two thermometers-2\n",
    "from vpython import *\n",
    "import numpy as np\n",
    "canvas()\n",
    "\n",
    "#Thermometer-1\n",
    "tube_1=cylinder(radius=0.3,length=10,opacity=0.5,pos=vector(0,3,0))\n",
    "bulb_1=sphere(radius=0.5,opacity=0.5,pos=vector(-0.4,3,0))\n",
    "bulb_inside_1=sphere(radius=0.35,color=color.red,pos=vector(-0.4,3,0))\n",
    "mercury_1=cylinder(radius=0.1,length=10,color=color.red,pos=vector(-0.4,3,0))\n",
    "for markings in np.linspace(-0.4,9.6,10):\n",
    "    box(size=vector(0.1,0.1,0.1),pos=vector(0.6+markings,3,0.3))\n",
    "\n",
    "#Thermometer-2\n",
    "tube_2=cylinder(radius=0.3,length=10,opacity=0.5,pos=vector(0,-3,0))\n",
    "bulb_2=sphere(radius=0.5,opacity=0.5,pos=vector(-0.4,-3,0))\n",
    "bulb_inside_2=sphere(radius=0.35,color=color.orange,pos=vector(-0.4,-3,0))\n",
    "mercury_2=cylinder(radius=0.1,length=10,color=color.orange,pos=vector(-0.4,-3,0))\n",
    "for markings in np.linspace(-0.4,9.6,10):\n",
    "    box(size=vector(0.1,0.1,0.1),pos=vector(0.6+markings,-3,0.3))\n",
    "   \n",
    "#animating part (raising and dropping of the temperature for thermometer-1)\n",
    "def temp1():\n",
    "    while True:\n",
    "        for i in np.linspace(0,10,1000):\n",
    "            rate(250)\n",
    "            mercury_1.length=i\n",
    "        for i in np.linspace(10,0,1000):\n",
    "            rate(250)\n",
    "            mercury_1.length=i\n",
    "\n",
    "#animating part (raising and dropping of the temperature for thermometer-2)\n",
    "def temp2():\n",
    "    while True:\n",
    "        for i in np.linspace(0,10,1000):\n",
    "            rate(500)          #change in temmperature with twice the rate of thermometer-1\n",
    "            mercury_2.length=i\n",
    "        for i in np.linspace(10,0,1000):\n",
    "            rate(500)\n",
    "            mercury_2.length=i\n",
    "            \n",
    "from threading import Thread\n",
    "thermometer1=Thread(target=temp1, daemon=True)\n",
    "thermometer2=Thread(target=temp2, daemon=True)\n",
    "thermometer1.start()\n",
    "thermometer2.start()\n",
    "while True:\n",
    "    pass"
   ]
  },
  {
   "cell_type": "code",
   "execution_count": null,
   "id": "b536e86e-6e42-4418-8c55-dcc5bf8620d6",
   "metadata": {},
   "outputs": [],
   "source": []
  }
 ],
 "metadata": {
  "kernelspec": {
   "display_name": "Python 3 (ipykernel)",
   "language": "python",
   "name": "python3"
  },
  "language_info": {
   "codemirror_mode": {
    "name": "ipython",
    "version": 3
   },
   "file_extension": ".py",
   "mimetype": "text/x-python",
   "name": "python",
   "nbconvert_exporter": "python",
   "pygments_lexer": "ipython3",
   "version": "3.12.7"
  }
 },
 "nbformat": 4,
 "nbformat_minor": 5
}
