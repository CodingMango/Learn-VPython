{
 "cells": [
  {
   "cell_type": "code",
   "execution_count": 1,
   "id": "40b9b41d-b1d3-480c-b44f-db3846379c2d",
   "metadata": {},
   "outputs": [
    {
     "data": {
      "text/html": [
       "<div id=\"glowscript\" class=\"glowscript\"></div>"
      ],
      "text/plain": [
       "<IPython.core.display.HTML object>"
      ]
     },
     "metadata": {},
     "output_type": "display_data"
    },
    {
     "data": {
      "application/javascript": [
       "if (typeof Jupyter !== \"undefined\") { window.__context = { glowscript_container: $(\"#glowscript\").removeAttr(\"id\")};}else{ element.textContent = ' ';}"
      ],
      "text/plain": [
       "<IPython.core.display.Javascript object>"
      ]
     },
     "metadata": {},
     "output_type": "display_data"
    },
    {
     "data": {
      "text/html": [
       "<div id=\"glowscript\" class=\"glowscript\"></div>"
      ],
      "text/plain": [
       "<IPython.core.display.HTML object>"
      ]
     },
     "metadata": {},
     "output_type": "display_data"
    },
    {
     "data": {
      "application/javascript": [
       "if (typeof Jupyter !== \"undefined\") { window.__context = { glowscript_container: $(\"#glowscript\").removeAttr(\"id\")};}else{ element.textContent = ' ';}"
      ],
      "text/plain": [
       "<IPython.core.display.Javascript object>"
      ]
     },
     "metadata": {},
     "output_type": "display_data"
    },
    {
     "ename": "KeyboardInterrupt",
     "evalue": "",
     "output_type": "error",
     "traceback": [
      "\u001b[1;31m---------------------------------------------------------------------------\u001b[0m",
      "\u001b[1;31mKeyboardInterrupt\u001b[0m                         Traceback (most recent call last)",
      "Cell \u001b[1;32mIn[1], line 76\u001b[0m\n\u001b[0;32m     73\u001b[0m menu(bind\u001b[38;5;241m=\u001b[39mchSpeed, choices\u001b[38;5;241m=\u001b[39m[\u001b[38;5;124m'\u001b[39m\u001b[38;5;124m1\u001b[39m\u001b[38;5;124m'\u001b[39m,\u001b[38;5;124m'\u001b[39m\u001b[38;5;124m2\u001b[39m\u001b[38;5;124m'\u001b[39m,\u001b[38;5;124m'\u001b[39m\u001b[38;5;124m3\u001b[39m\u001b[38;5;124m'\u001b[39m,\u001b[38;5;124m'\u001b[39m\u001b[38;5;124m4\u001b[39m\u001b[38;5;124m'\u001b[39m,\u001b[38;5;124m'\u001b[39m\u001b[38;5;124m5\u001b[39m\u001b[38;5;124m'\u001b[39m])\n\u001b[0;32m     75\u001b[0m \u001b[38;5;28;01mwhile\u001b[39;00m \u001b[38;5;28;01mTrue\u001b[39;00m:\n\u001b[1;32m---> 76\u001b[0m     rate(\u001b[38;5;241m50\u001b[39m)\n\u001b[0;32m     77\u001b[0m     rme\u001b[38;5;241m=\u001b[39mxPos\u001b[38;5;241m+\u001b[39mmarbleRadius \u001b[38;5;66;03m#rbe-right marble edge\u001b[39;00m\n\u001b[0;32m     78\u001b[0m     lme\u001b[38;5;241m=\u001b[39mxPos\u001b[38;5;241m-\u001b[39mmarbleRadius \u001b[38;5;66;03m#lbe-left marble edge\u001b[39;00m\n",
      "File \u001b[1;32m~\\anaconda3\\Lib\\site-packages\\vpython\\rate_control.py:266\u001b[0m, in \u001b[0;36m_RateKeeper2.__call__\u001b[1;34m(self, N)\u001b[0m\n\u001b[0;32m    264\u001b[0m \u001b[38;5;28mself\u001b[39m\u001b[38;5;241m.\u001b[39mrval \u001b[38;5;241m=\u001b[39m N\n\u001b[0;32m    265\u001b[0m \u001b[38;5;28;01mif\u001b[39;00m \u001b[38;5;28mself\u001b[39m\u001b[38;5;241m.\u001b[39mrval \u001b[38;5;241m<\u001b[39m \u001b[38;5;241m1\u001b[39m: \u001b[38;5;28;01mraise\u001b[39;00m \u001b[38;5;167;01mValueError\u001b[39;00m(\u001b[38;5;124m\"\u001b[39m\u001b[38;5;124mrate value must be greater than or equal to 1\u001b[39m\u001b[38;5;124m\"\u001b[39m)\n\u001b[1;32m--> 266\u001b[0m \u001b[38;5;28msuper\u001b[39m(_RateKeeper2, \u001b[38;5;28mself\u001b[39m)\u001b[38;5;241m.\u001b[39m\u001b[38;5;21m__call__\u001b[39m(\u001b[38;5;28mself\u001b[39m\u001b[38;5;241m.\u001b[39mrval)\n",
      "File \u001b[1;32m~\\anaconda3\\Lib\\site-packages\\vpython\\rate_control.py:214\u001b[0m, in \u001b[0;36mRateKeeper.__call__\u001b[1;34m(self, maxRate)\u001b[0m\n\u001b[0;32m    212\u001b[0m \u001b[38;5;28;01mif\u001b[39;00m \u001b[38;5;28mself\u001b[39m\u001b[38;5;241m.\u001b[39mwhenToRender[\u001b[38;5;28mself\u001b[39m\u001b[38;5;241m.\u001b[39mrenderIndex] \u001b[38;5;241m==\u001b[39m \u001b[38;5;28mself\u001b[39m\u001b[38;5;241m.\u001b[39mrateCount:\n\u001b[0;32m    213\u001b[0m     sleeps \u001b[38;5;241m+\u001b[39m\u001b[38;5;241m=\u001b[39m \u001b[38;5;241m1\u001b[39m\n\u001b[1;32m--> 214\u001b[0m     _sleep(\u001b[38;5;28mself\u001b[39m\u001b[38;5;241m.\u001b[39minteractionPeriod)\n\u001b[0;32m    215\u001b[0m \u001b[38;5;28;01melse\u001b[39;00m:\n\u001b[0;32m    216\u001b[0m     \u001b[38;5;28;01mbreak\u001b[39;00m\n",
      "File \u001b[1;32m~\\anaconda3\\Lib\\site-packages\\vpython\\rate_control.py:62\u001b[0m, in \u001b[0;36m_sleep\u001b[1;34m(dt)\u001b[0m\n\u001b[0;32m     60\u001b[0m dtsleep \u001b[38;5;241m=\u001b[39m nticks\u001b[38;5;241m*\u001b[39m_tick\n\u001b[0;32m     61\u001b[0m t \u001b[38;5;241m=\u001b[39m _clock()\n\u001b[1;32m---> 62\u001b[0m time\u001b[38;5;241m.\u001b[39msleep(dtsleep)\n\u001b[0;32m     63\u001b[0m t \u001b[38;5;241m=\u001b[39m _clock()\u001b[38;5;241m-\u001b[39mt\n\u001b[0;32m     64\u001b[0m dt \u001b[38;5;241m-\u001b[39m\u001b[38;5;241m=\u001b[39m t\n",
      "\u001b[1;31mKeyboardInterrupt\u001b[0m: "
     ]
    }
   ],
   "source": [
    "#widgets (different ways of taking inputs from user)\n",
    "\n",
    "from vpython import *\n",
    "canvas()\n",
    "roomDepth=7   \n",
    "roomWidth=15\n",
    "roomHeight=10\n",
    "wallThickness=0.1\n",
    "marbleRadius=1\n",
    "floor=box(pos=vector(0,-roomHeight/2,0),color=color.white,size=vector(roomWidth,wallThickness,roomDepth))\n",
    "ceilimg=box(pos=vector(0,roomHeight/2,0),color=color.white,size=vector(roomWidth,wallThickness,roomDepth))\n",
    "lWall=floor=box(pos=vector(-roomWidth/2,0,0),color=color.white,size=vector(wallThickness,roomHeight,roomDepth))\n",
    "rWall=floor=box(pos=vector(roomWidth/2,0,0),color=color.white,size=vector(wallThickness,roomHeight,roomDepth))\n",
    "bWall=floor=box(pos=vector(0,0,-roomDepth/2),color=color.white,size=vector(roomWidth,roomHeight,wallThickness))\n",
    "marble=sphere(radius=marbleRadius,color=color.white)\n",
    "xPos=3 #change these to observe the changes in the output\n",
    "yPos=1\n",
    "zPos=-1\n",
    "x_delta=.1\n",
    "y_delta=.1\n",
    "z_delta=.1\n",
    "\n",
    "#widgets\n",
    "def redColor(x):\n",
    "    marble.color=color.red        \n",
    "button(bind=redColor, text='Red',color=color.black,background=color.red)\n",
    "\n",
    "def greenColor(x):\n",
    "    marble.color=color.green        \n",
    "button(bind=greenColor, text='Green',color=color.black,background=color.green)\n",
    "\n",
    "def blueColor(x):\n",
    "    marble.color=color.blue        \n",
    "button(bind=blueColor, text='Blue',color=color.black,background=color.blue)\n",
    "\n",
    "wtext(text='\\n') #for newline\n",
    "run=0\n",
    "def runMarble(x):\n",
    "    global run\n",
    "    if x.checked==True:\n",
    "        run=1\n",
    "    if x.checked==False:\n",
    "        run=0\n",
    "radio(bind=runMarble,text='Run')\n",
    "def chSize(x):\n",
    "    if x.checked==True:\n",
    "        global marbleRadius\n",
    "        marbleRadius*=2\n",
    "        marble.radius=marbleRadius\n",
    "    if x.checked==False:\n",
    "        marbleRadius/=2\n",
    "        marble.radius=marbleRadius\n",
    "checkbox(bind=chSize,text='Change size')\n",
    "wtext(text='\\nChange the opacity\\n')\n",
    "def chOpacity(x):\n",
    "    marble.opacity=x.value\n",
    "slider(bind=chOpacity, min=0,max=1,value=1,vertical=False)\n",
    "\n",
    "wtext(text='\\nSelect the speed\\n')\n",
    "speed=1\n",
    "def chSpeed(x):\n",
    "    global speed\n",
    "    if x.selected=='1':\n",
    "        speed=1\n",
    "    if x.selected=='2':\n",
    "        speed=2\n",
    "    if x.selected=='3':\n",
    "        speed=3\n",
    "    if x.selected=='4':\n",
    "        speed=4\n",
    "    if x.selected=='5':\n",
    "        speed=5\n",
    "menu(bind=chSpeed, choices=['1','2','3','4','5'])\n",
    "\n",
    "while True:\n",
    "    rate(50)\n",
    "    rme=xPos+marbleRadius #rbe-right marble edge\n",
    "    lme=xPos-marbleRadius #lbe-left marble edge\n",
    "    rwe=roomWidth/2-wallThickness/2 #rwe=right wall edge\n",
    "    lwe=-rwe #lwe=left wall edge\n",
    "\n",
    "    tme=yPos+marbleRadius #tme-top marble edge\n",
    "    dme=yPos-marbleRadius #dme- down marble edge\n",
    "    twe=roomHeight/2-wallThickness/2 #twe-top wall edge\n",
    "    dwe=-twe #dwe-down wall edge\n",
    "\n",
    "    fme=zPos+marbleRadius #fme-front marble edge\n",
    "    bme=zPos-marbleRadius #bme-back marble edge\n",
    "    fwe=roomDepth/2-wallThickness/2 #fwe-front wall edge\n",
    "    bwe=-fwe #bwe-back wall edge\n",
    "     \n",
    "    if (rme>=rwe or lme<=lwe): #to bounce, when the ball touched the left or right walls\n",
    "        x_delta*=-1\n",
    "    \n",
    "    if (tme>=twe or dme<=dwe): #to bounce, when the ball touched the ceiling or the floor\n",
    "        y_delta*=-1\n",
    "        \n",
    "    if (fme>=fwe or bme<=bwe): #to bounce, when the ball touched the front or back walls\n",
    "        z_delta*=-1\n",
    "        \n",
    "    xPos+=x_delta*run*speed\n",
    "    yPos+=y_delta*run*speed\n",
    "    zPos+=z_delta*run*speed\n",
    "    marble.pos=vector(xPos,yPos,zPos)"
   ]
  },
  {
   "cell_type": "code",
   "execution_count": null,
   "id": "55cab74e-e177-4e4d-9448-c79098c9e3d0",
   "metadata": {},
   "outputs": [
    {
     "data": {
      "text/html": [
       "<div id=\"glowscript\" class=\"glowscript\"></div>"
      ],
      "text/plain": [
       "<IPython.core.display.HTML object>"
      ]
     },
     "metadata": {},
     "output_type": "display_data"
    },
    {
     "data": {
      "application/javascript": [
       "if (typeof Jupyter !== \"undefined\") { window.__context = { glowscript_container: $(\"#glowscript\").removeAttr(\"id\")};}else{ element.textContent = ' ';}"
      ],
      "text/plain": [
       "<IPython.core.display.Javascript object>"
      ]
     },
     "metadata": {},
     "output_type": "display_data"
    },
    {
     "data": {
      "text/html": [
       "<div id=\"glowscript\" class=\"glowscript\"></div>"
      ],
      "text/plain": [
       "<IPython.core.display.HTML object>"
      ]
     },
     "metadata": {},
     "output_type": "display_data"
    },
    {
     "data": {
      "application/javascript": [
       "if (typeof Jupyter !== \"undefined\") { window.__context = { glowscript_container: $(\"#glowscript\").removeAttr(\"id\")};}else{ element.textContent = ' ';}"
      ],
      "text/plain": [
       "<IPython.core.display.Javascript object>"
      ]
     },
     "metadata": {},
     "output_type": "display_data"
    }
   ],
   "source": [
    "from vpython import *\n",
    "canvas()\n",
    "myBox=box(color=color.cyan,visible=True)\n",
    "myCylinder=cylinder(color=color.cyan,visible=False,pos=vector(-0.5,0,0))\n",
    "myPyramid=pyramid(color=color.cyan,visible=False,size=vector(1,1,2))\n",
    "myRing=ring(color=color.cyan,visible=False,axis=vector(0,0,1),thickness=0.2)\n",
    "currentObj=myBox\n",
    "def shape(x):\n",
    "    global currentObj\n",
    "    op=currentObj.opacity\n",
    "    currentObj.visible=False\n",
    "    if x.selected=='Box':\n",
    "        currentObj=myBox\n",
    "    if x.selected=='Cylinder':\n",
    "        currentObj=myCylinder\n",
    "    if x.selected=='Pyramid':\n",
    "        currentObj=myPyramid\n",
    "    if x.selected=='Ring':\n",
    "        currentObj=myRing\n",
    "    currentObj.visible=True\n",
    "    currentObj.opacity=op\n",
    "wtext(text='Select the shape to see  ')\n",
    "menu(bind=shape, choices=['Box','Cylinder','Pyramid','Ring'])\n",
    "wtext(text='\\n')\n",
    "\n",
    "def transparent(y):\n",
    "    if y.checked==True:\n",
    "        currentObj.opacity=.5\n",
    "    if y.checked==False:\n",
    "        currentObj.opacity=1\n",
    "checkbox(bind=transparent,text='Transparent')\n",
    "wtext(text='  ')\n",
    "\n",
    "rotation=False\n",
    "def rotateObj(x):\n",
    "    global rotation\n",
    "    rotation=x.checked\n",
    "radio(bind=rotateObj, text='Rotate')\n",
    "wtext(text='\\n')\n",
    "\n",
    "wtext(text='Adjust the speed of the rotation: ')\n",
    "\n",
    "angleInc=0.001\n",
    "inc=15\n",
    "def speed(z):\n",
    "    global inc\n",
    "    inc= z.value\n",
    "s=slider(bind=speed, min=10,max=50,value=15,vertical=False)\n",
    "\n",
    "while True:\n",
    "    rate(25)\n",
    "    if rotation==True:\n",
    "        currentObj.rotate(angle=inc*angleInc, axis=vector(0,1,0), origin=vector(0,0,0))"
   ]
  }
 ],
 "metadata": {
  "kernelspec": {
   "display_name": "Python 3 (ipykernel)",
   "language": "python",
   "name": "python3"
  },
  "language_info": {
   "codemirror_mode": {
    "name": "ipython",
    "version": 3
   },
   "file_extension": ".py",
   "mimetype": "text/x-python",
   "name": "python",
   "nbconvert_exporter": "python",
   "pygments_lexer": "ipython3",
   "version": "3.12.7"
  }
 },
 "nbformat": 4,
 "nbformat_minor": 5
}
