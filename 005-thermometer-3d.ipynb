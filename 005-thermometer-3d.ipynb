{
 "cells": [
  {
   "cell_type": "code",
   "execution_count": null,
   "id": "fa2b42f6-b444-4f40-916f-0759ca9a61e6",
   "metadata": {},
   "outputs": [
    {
     "data": {
      "text/html": [
       "<div id=\"glowscript\" class=\"glowscript\"></div>"
      ],
      "text/plain": [
       "<IPython.core.display.HTML object>"
      ]
     },
     "metadata": {},
     "output_type": "display_data"
    },
    {
     "data": {
      "application/javascript": [
       "if (typeof Jupyter !== \"undefined\") { window.__context = { glowscript_container: $(\"#glowscript\").removeAttr(\"id\")};}else{ element.textContent = ' ';}"
      ],
      "text/plain": [
       "<IPython.core.display.Javascript object>"
      ]
     },
     "metadata": {},
     "output_type": "display_data"
    },
    {
     "data": {
      "text/html": [
       "<div id=\"glowscript\" class=\"glowscript\"></div>"
      ],
      "text/plain": [
       "<IPython.core.display.HTML object>"
      ]
     },
     "metadata": {},
     "output_type": "display_data"
    },
    {
     "data": {
      "application/javascript": [
       "if (typeof Jupyter !== \"undefined\") { window.__context = { glowscript_container: $(\"#glowscript\").removeAttr(\"id\")};}else{ element.textContent = ' ';}"
      ],
      "text/plain": [
       "<IPython.core.display.Javascript object>"
      ]
     },
     "metadata": {},
     "output_type": "display_data"
    }
   ],
   "source": [
    "# Animation of Thermometer-1\n",
    "from vpython import *\n",
    "canvas()\n",
    "body=box(size=vector(3,12,0.5),opacity=0.5,color=color.white)\n",
    "tube=cylinder(radius=0.2,length=10,axis=vector(0,1,0),pos=vector(0,-5,0),opacity=0.6)\n",
    "bulb=sphere(radius=0.5,pos=vector(0,-5,0),opacity=0.3)\n",
    "bulb_inside=sphere(radius=0.3,pos=vector(0,-5,0),color=color.red)\n",
    "mercury=cylinder(radius=0.1,length=10,axis=vector(0,1,0),pos=vector(0,-5,0),color=color.red)\n",
    "\n",
    "#animating part\n",
    "while True:\n",
    "    rate(100)\n",
    "    print(\"Thermometer can measure upto 100 deg celsius\")\n",
    "    temp=float(input(\"Enter temp to show\"))\n",
    "    mercury.length=max(temp/10,0.1)\n",
    "    "
   ]
  },
  {
   "cell_type": "code",
   "execution_count": null,
   "id": "949ecd2b-7232-477b-9e8e-a9a03fde2923",
   "metadata": {},
   "outputs": [
    {
     "data": {
      "text/html": [
       "<div id=\"glowscript\" class=\"glowscript\"></div>"
      ],
      "text/plain": [
       "<IPython.core.display.HTML object>"
      ]
     },
     "metadata": {},
     "output_type": "display_data"
    },
    {
     "data": {
      "application/javascript": [
       "if (typeof Jupyter !== \"undefined\") { window.__context = { glowscript_container: $(\"#glowscript\").removeAttr(\"id\")};}else{ element.textContent = ' ';}"
      ],
      "text/plain": [
       "<IPython.core.display.Javascript object>"
      ]
     },
     "metadata": {},
     "output_type": "display_data"
    },
    {
     "data": {
      "text/html": [
       "<div id=\"glowscript\" class=\"glowscript\"></div>"
      ],
      "text/plain": [
       "<IPython.core.display.HTML object>"
      ]
     },
     "metadata": {},
     "output_type": "display_data"
    },
    {
     "data": {
      "application/javascript": [
       "if (typeof Jupyter !== \"undefined\") { window.__context = { glowscript_container: $(\"#glowscript\").removeAttr(\"id\")};}else{ element.textContent = ' ';}"
      ],
      "text/plain": [
       "<IPython.core.display.Javascript object>"
      ]
     },
     "metadata": {},
     "output_type": "display_data"
    }
   ],
   "source": [
    "# Animation of Thermometer-2\n",
    "from vpython import *\n",
    "import numpy as np\n",
    "canvas()\n",
    "tube=cylinder(radius=0.3,length=10,opacity=0.5)\n",
    "bulb=sphere(radius=0.5,opacity=0.5,pos=vector(-0.4,0,0))\n",
    "bulb_inside=sphere(radius=0.35,color=color.red,pos=vector(-0.4,0,0))\n",
    "mercury=cylinder(radius=0.1,length=10,color=color.red,pos=vector(-0.4,0,0))\n",
    "for markings in np.linspace(-0.4,9.6,10):\n",
    "    box(size=vector(0.1,0.1,0.1),pos=vector(markings,0,0.3))\n",
    "\n",
    "#animating part (raising and dropping of the temperature)\n",
    "while True:\n",
    "    for i in np.linspace(0,10,1000):\n",
    "        rate(250)\n",
    "        mercury.length=i\n",
    "    for i in np.linspace(10,0,1000):\n",
    "        rate(250)\n",
    "        mercury.length=i"
   ]
  },
  {
   "cell_type": "code",
   "execution_count": null,
   "id": "8d9025a9-fef3-4c34-abb7-49ed012ac846",
   "metadata": {},
   "outputs": [],
   "source": []
  }
 ],
 "metadata": {
  "kernelspec": {
   "display_name": "Python 3 (ipykernel)",
   "language": "python",
   "name": "python3"
  },
  "language_info": {
   "codemirror_mode": {
    "name": "ipython",
    "version": 3
   },
   "file_extension": ".py",
   "mimetype": "text/x-python",
   "name": "python",
   "nbconvert_exporter": "python",
   "pygments_lexer": "ipython3",
   "version": "3.12.7"
  }
 },
 "nbformat": 4,
 "nbformat_minor": 5
}
