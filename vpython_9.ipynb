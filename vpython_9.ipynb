{
 "cells": [
  {
   "cell_type": "code",
   "execution_count": 1,
   "id": "7233b703-987e-40da-b8ba-a853c3800255",
   "metadata": {},
   "outputs": [
    {
     "data": {
      "text/html": [
       "<div id=\"glowscript\" class=\"glowscript\"></div>"
      ],
      "text/plain": [
       "<IPython.core.display.HTML object>"
      ]
     },
     "metadata": {},
     "output_type": "display_data"
    },
    {
     "data": {
      "application/javascript": [
       "if (typeof Jupyter !== \"undefined\") { window.__context = { glowscript_container: $(\"#glowscript\").removeAttr(\"id\")};}else{ element.textContent = ' ';}"
      ],
      "text/plain": [
       "<IPython.core.display.Javascript object>"
      ]
     },
     "metadata": {},
     "output_type": "display_data"
    },
    {
     "data": {
      "text/html": [
       "<div id=\"glowscript\" class=\"glowscript\"></div>"
      ],
      "text/plain": [
       "<IPython.core.display.HTML object>"
      ]
     },
     "metadata": {},
     "output_type": "display_data"
    },
    {
     "data": {
      "application/javascript": [
       "if (typeof Jupyter !== \"undefined\") { window.__context = { glowscript_container: $(\"#glowscript\").removeAttr(\"id\")};}else{ element.textContent = ' ';}"
      ],
      "text/plain": [
       "<IPython.core.display.Javascript object>"
      ]
     },
     "metadata": {},
     "output_type": "display_data"
    }
   ],
   "source": [
    "from vpython import *\n",
    "canvas()\n",
    "arrowL=2 #arrow length\n",
    "arrowT=0.02 #arrow thickness\n",
    "Xarrow=arrow(color=color.red,length=arrowL,shaftwidth=arrowT) # Here by default \"axis=vector(1,0,0)\"\n",
    "Yarrow=arrow(color=color.green,length=arrowL,shaftwidth=arrowT,axis=vector(0,1,0))\n",
    "Zarrow=arrow(color=color.blue,length=arrowL,shaftwidth=arrowT,axis=vector(0,0,1))"
   ]
  },
  {
   "cell_type": "code",
   "execution_count": 2,
   "id": "1bda90d9-1972-4e07-9ba5-2a57e3445463",
   "metadata": {},
   "outputs": [
    {
     "data": {
      "text/html": [
       "<div id=\"glowscript\" class=\"glowscript\"></div>"
      ],
      "text/plain": [
       "<IPython.core.display.HTML object>"
      ]
     },
     "metadata": {},
     "output_type": "display_data"
    },
    {
     "data": {
      "application/javascript": [
       "if (typeof Jupyter !== \"undefined\") { window.__context = { glowscript_container: $(\"#glowscript\").removeAttr(\"id\")};}else{ element.textContent = ' ';}"
      ],
      "text/plain": [
       "<IPython.core.display.Javascript object>"
      ]
     },
     "metadata": {},
     "output_type": "display_data"
    }
   ],
   "source": [
    "from vpython import *\n",
    "canvas()\n",
    "arrowL=2\n",
    "arrowT=0.02\n",
    "Myarrow=arrow(color=color.red,length=arrowL,shaftwidth=arrowT) \n",
    "Myarrow.axis=vector(0,1,0) \n",
    "#NOTICE: notice that if you change the 'axis' then the length of the arrow reverts to length =1\n",
    "#So everytime you change the axis, you gotta specify the length immediately (see below example)\n",
    "\n",
    "\n",
    "Myarrow_2=arrow(color=color.orange,length=arrowL,shaftwidth=arrowT,opacity=0.5) #I decreased the opacity to observe the changes happening to the length\n",
    "Myarrow_2.axis=vector(0,1,0)\n",
    "Myarrow_2.length=arrowL #resetting the length (after you changed the axis) is must"
   ]
  },
  {
   "cell_type": "code",
   "execution_count": 3,
   "id": "cdc4cb94-0b4b-4f42-af6f-51a319f3393c",
   "metadata": {},
   "outputs": [
    {
     "data": {
      "text/html": [
       "<div id=\"glowscript\" class=\"glowscript\"></div>"
      ],
      "text/plain": [
       "<IPython.core.display.HTML object>"
      ]
     },
     "metadata": {},
     "output_type": "display_data"
    },
    {
     "data": {
      "application/javascript": [
       "if (typeof Jupyter !== \"undefined\") { window.__context = { glowscript_container: $(\"#glowscript\").removeAttr(\"id\")};}else{ element.textContent = ' ';}"
      ],
      "text/plain": [
       "<IPython.core.display.Javascript object>"
      ]
     },
     "metadata": {},
     "output_type": "display_data"
    }
   ],
   "source": [
    "#pointing the arrow in any direction\n",
    "#just we have to use the basic tringonometry\n",
    "from vpython import *\n",
    "import numpy as np\n",
    "canvas()\n",
    "arrowL=2\n",
    "arrowT=0.02\n",
    "angle=np.pi/4 #pi/2 radians is same as 45 degrees\n",
    "\n",
    "Xarrow=arrow(color=color.red,length=arrowL,shaftwidth=arrowT) #here by default axis=vector(1,0,0)\n",
    "Yarrow=arrow(color=color.green,length=arrowL,shaftwidth=arrowT,axis=vector(0,1,0))\n",
    "Zarrow=arrow(color=color.blue,length=arrowL,shaftwidth=arrowT,axis=vector(0,0,1))\n",
    "\n",
    "Myarrow=arrow(color=color.orange,length=arrowL,shaftwidth=arrowT,axis=vector(arrowL*np.cos(angle), arrowL*np.sin(angle),0))\n",
    "#pointing the above arrow in 45 degrees"
   ]
  },
  {
   "cell_type": "code",
   "execution_count": null,
   "id": "ab2156e3-f44f-433a-95cc-bc181eb7265c",
   "metadata": {},
   "outputs": [
    {
     "data": {
      "text/html": [
       "<div id=\"glowscript\" class=\"glowscript\"></div>"
      ],
      "text/plain": [
       "<IPython.core.display.HTML object>"
      ]
     },
     "metadata": {},
     "output_type": "display_data"
    },
    {
     "data": {
      "application/javascript": [
       "if (typeof Jupyter !== \"undefined\") { window.__context = { glowscript_container: $(\"#glowscript\").removeAttr(\"id\")};}else{ element.textContent = ' ';}"
      ],
      "text/plain": [
       "<IPython.core.display.Javascript object>"
      ]
     },
     "metadata": {},
     "output_type": "display_data"
    }
   ],
   "source": [
    "#animating the arrow\n",
    "from vpython import *\n",
    "import numpy as np\n",
    "canvas()\n",
    "arrowL=2\n",
    "arrowT=0.02\n",
    "angle=np.pi/4 #pi/4 radians is same as 45 degrees\n",
    "\n",
    "Xarrow=arrow(color=color.red,length=arrowL,shaftwidth=arrowT) #here by default axis=vector(1,0,0)\n",
    "Yarrow=arrow(color=color.green,length=arrowL,shaftwidth=arrowT,axis=vector(0,1,0))\n",
    "Zarrow=arrow(color=color.blue,length=arrowL,shaftwidth=arrowT,axis=vector(0,0,1))\n",
    "\n",
    "Myarrow=arrow(color=color.orange,length=arrowL,shaftwidth=arrowT)\n",
    "while True:\n",
    "    for theta in np.linspace(0,2*np.pi,1000):\n",
    "        rate(100) # remember whenever you change a parameter inside a loop, you must add a rate in the loop\n",
    "        Myarrow.axis=vector(arrowL*np.cos(theta),arrowL*np.sin(theta),0)\n",
    "        Myarrow.length=arrowL # this is must !!!"
   ]
  },
  {
   "cell_type": "code",
   "execution_count": null,
   "id": "4cf66d79-59b0-49f0-89d5-6ab63b23e481",
   "metadata": {},
   "outputs": [
    {
     "data": {
      "text/html": [
       "<div id=\"glowscript\" class=\"glowscript\"></div>"
      ],
      "text/plain": [
       "<IPython.core.display.HTML object>"
      ]
     },
     "metadata": {},
     "output_type": "display_data"
    },
    {
     "data": {
      "application/javascript": [
       "if (typeof Jupyter !== \"undefined\") { window.__context = { glowscript_container: $(\"#glowscript\").removeAttr(\"id\")};}else{ element.textContent = ' ';}"
      ],
      "text/plain": [
       "<IPython.core.display.Javascript object>"
      ]
     },
     "metadata": {},
     "output_type": "display_data"
    },
    {
     "data": {
      "text/html": [
       "<div id=\"glowscript\" class=\"glowscript\"></div>"
      ],
      "text/plain": [
       "<IPython.core.display.HTML object>"
      ]
     },
     "metadata": {},
     "output_type": "display_data"
    },
    {
     "data": {
      "application/javascript": [
       "if (typeof Jupyter !== \"undefined\") { window.__context = { glowscript_container: $(\"#glowscript\").removeAttr(\"id\")};}else{ element.textContent = ' ';}"
      ],
      "text/plain": [
       "<IPython.core.display.Javascript object>"
      ]
     },
     "metadata": {},
     "output_type": "display_data"
    }
   ],
   "source": [
    "#animating the arrow-2\n",
    "from vpython import *\n",
    "import numpy as np\n",
    "canvas()\n",
    "arrowL=2\n",
    "arrowT=0.02\n",
    "angle=np.pi/4 #pi/4 radians is same as 45 degrees\n",
    "\n",
    "Xarrow=arrow(color=color.red,length=arrowL,shaftwidth=arrowT) #here by default axis=vector(1,0,0)\n",
    "Yarrow=arrow(color=color.green,length=arrowL,shaftwidth=arrowT,axis=vector(0,1,0))\n",
    "Zarrow=arrow(color=color.blue,length=arrowL,shaftwidth=arrowT,axis=vector(0,0,1))\n",
    "\n",
    "Myarrow=arrow(color=color.orange,length=arrowL,shaftwidth=arrowT)\n",
    "while True:\n",
    "    for theta in np.linspace(0,2*np.pi,1000):\n",
    "        rate(100)\n",
    "        Myarrow.axis=vector(arrowL*np.cos(theta),arrowL*np.sin(theta),0)\n",
    "        Myarrow.length=arrowL\n",
    "\n",
    "    for theta in np.linspace(0,5*np.pi/2,1000):\n",
    "        rate(100)\n",
    "        Myarrow.axis=vector(arrowL*np.cos(theta),0,arrowL*np.sin(theta))\n",
    "        Myarrow.length=arrowL\n",
    "        \n",
    "    for theta in np.linspace(np.pi/2,5*np.pi/2,1000):\n",
    "        rate(100)\n",
    "        Myarrow.axis=vector(0,arrowL*np.cos(theta),arrowL*np.sin(theta))\n",
    "        Myarrow.length=arrowL\n",
    "\n",
    "    for theta in np.linspace(np.pi/2,2*np.pi,1000):\n",
    "        rate(100)\n",
    "        Myarrow.axis=vector(arrowL*np.cos(theta),0,arrowL*np.sin(theta))\n",
    "        Myarrow.length=arrowL"
   ]
  },
  {
   "cell_type": "code",
   "execution_count": null,
   "id": "009cb823-e33b-42d4-bd36-24cb47726a21",
   "metadata": {},
   "outputs": [
    {
     "data": {
      "text/html": [
       "<div id=\"glowscript\" class=\"glowscript\"></div>"
      ],
      "text/plain": [
       "<IPython.core.display.HTML object>"
      ]
     },
     "metadata": {},
     "output_type": "display_data"
    },
    {
     "data": {
      "application/javascript": [
       "if (typeof Jupyter !== \"undefined\") { window.__context = { glowscript_container: $(\"#glowscript\").removeAttr(\"id\")};}else{ element.textContent = ' ';}"
      ],
      "text/plain": [
       "<IPython.core.display.Javascript object>"
      ]
     },
     "metadata": {},
     "output_type": "display_data"
    },
    {
     "data": {
      "text/html": [
       "<div id=\"glowscript\" class=\"glowscript\"></div>"
      ],
      "text/plain": [
       "<IPython.core.display.HTML object>"
      ]
     },
     "metadata": {},
     "output_type": "display_data"
    },
    {
     "data": {
      "application/javascript": [
       "if (typeof Jupyter !== \"undefined\") { window.__context = { glowscript_container: $(\"#glowscript\").removeAttr(\"id\")};}else{ element.textContent = ' ';}"
      ],
      "text/plain": [
       "<IPython.core.display.Javascript object>"
      ]
     },
     "metadata": {},
     "output_type": "display_data"
    }
   ],
   "source": [
    "#axis command just takes the coordinates of the tip of the arrow as argument\n",
    "#to show that see the example below\n",
    "from vpython import *\n",
    "import numpy as np\n",
    "canvas()\n",
    "arrowL=2\n",
    "arrowT=0.02\n",
    "angle=np.pi/4\n",
    "\n",
    "Xarrow=arrow(color=color.red,length=arrowL,shaftwidth=arrowT) \n",
    "Yarrow=arrow(color=color.green,length=arrowL,shaftwidth=arrowT,axis=vector(0,1,0))\n",
    "Zarrow=arrow(color=color.blue,length=arrowL,shaftwidth=arrowT,axis=vector(0,0,1))\n",
    "\n",
    "Myarrow=arrow(color=color.orange,length=arrowL,shaftwidth=arrowT)\n",
    "mysphere=sphere(radius=0.1,color=color.magenta)\n",
    "while True:\n",
    "    for theta in np.linspace(0,2*np.pi,1000):\n",
    "        rate(100)\n",
    "        Myarrow.axis=vector(arrowL*np.cos(theta),arrowL*np.sin(theta),0)\n",
    "        Myarrow.length=arrowL\n",
    "        mysphere.pos=vector(arrowL*np.cos(theta),arrowL*np.sin(theta),0) #centre of the sphere as the same coordinates as the tip of the arrow\n",
    "        \n",
    "    for theta in np.linspace(0,5*np.pi/2,1000):\n",
    "        rate(100)\n",
    "        Myarrow.axis=vector(arrowL*np.cos(theta),0,arrowL*np.sin(theta)) \n",
    "        Myarrow.length=arrowL\n",
    "        mysphere.pos=vector(arrowL*np.cos(theta),0,arrowL*np.sin(theta)) #centre of the sphere as the same coordinates as the tip of the arrow\n",
    "        \n",
    "    for theta in np.linspace(0,2*np.pi,1000):\n",
    "        rate(100)\n",
    "        Myarrow.axis=vector(0,arrowL*np.sin(theta),arrowL*np.cos(theta))\n",
    "        Myarrow.length=arrowL\n",
    "        mysphere.pos=vector(0,arrowL*np.sin(theta),arrowL*np.cos(theta)) #centre of the sphere as the same coordinates as the tip of the arrow\n",
    "        \n",
    "    for theta in np.linspace(np.pi/2,2*np.pi,1000):\n",
    "        rate(100)\n",
    "        Myarrow.axis=vector(arrowL*np.cos(theta),0,arrowL*np.sin(theta))\n",
    "        Myarrow.length=arrowL\n",
    "        mysphere.pos=vector(arrowL*np.cos(theta),0,arrowL*np.sin(theta)) #centre of the sphere as the same coordinates as the tip of the arrow"
   ]
  },
  {
   "cell_type": "code",
   "execution_count": null,
   "id": "d0265ac5-010b-47f7-8eb0-5e8373eaec12",
   "metadata": {},
   "outputs": [],
   "source": [
    "#see below animation also to understand that axis command just takes the coordinates of the tip of the arrow as argument\n",
    "from vpython import *\n",
    "import numpy as np\n",
    "canvas()\n",
    "arrowL=2\n",
    "arrowT=0.02\n",
    "angle=np.pi/4\n",
    "\n",
    "Xarrow=arrow(color=color.red,length=arrowL,shaftwidth=arrowT) \n",
    "Yarrow=arrow(color=color.green,length=arrowL,shaftwidth=arrowT,axis=vector(0,1,0))\n",
    "Zarrow=arrow(color=color.blue,length=arrowL,shaftwidth=arrowT,axis=vector(0,0,1))\n",
    "\n",
    "Myarrow=arrow(color=color.orange,length=arrowL,shaftwidth=arrowT)\n",
    "mysphere=sphere(radius=0.1,color=color.magenta,make_trail=True,trail_color=color.cyan)     #NOTE: just edited this line of code only\n",
    "while True:\n",
    "    for theta in np.linspace(0,2*np.pi,1000):\n",
    "        rate(100)\n",
    "        Myarrow.axis=vector(arrowL*np.cos(theta),arrowL*np.sin(theta),0)\n",
    "        Myarrow.length=arrowL\n",
    "        mysphere.pos=vector(arrowL*np.cos(theta),arrowL*np.sin(theta),0) \n",
    "        \n",
    "    for theta in np.linspace(0,5*np.pi/2,1000):\n",
    "        rate(100)\n",
    "        Myarrow.axis=vector(arrowL*np.cos(theta),0,arrowL*np.sin(theta)) \n",
    "        Myarrow.length=arrowL\n",
    "        mysphere.pos=vector(arrowL*np.cos(theta),0,arrowL*np.sin(theta)) \n",
    "        \n",
    "    for theta in np.linspace(0,2*np.pi,1000):\n",
    "        rate(100)\n",
    "        Myarrow.axis=vector(0,arrowL*np.sin(theta),arrowL*np.cos(theta))\n",
    "        Myarrow.length=arrowL\n",
    "        mysphere.pos=vector(0,arrowL*np.sin(theta),arrowL*np.cos(theta)) \n",
    "        \n",
    "    for theta in np.linspace(np.pi/2,2*np.pi,1000):\n",
    "        rate(100)\n",
    "        Myarrow.axis=vector(arrowL*np.cos(theta),0,arrowL*np.sin(theta))\n",
    "        Myarrow.length=arrowL\n",
    "        mysphere.pos=vector(arrowL*np.cos(theta),0,arrowL*np.sin(theta))"
   ]
  }
 ],
 "metadata": {
  "kernelspec": {
   "display_name": "Python 3 (ipykernel)",
   "language": "python",
   "name": "python3"
  },
  "language_info": {
   "codemirror_mode": {
    "name": "ipython",
    "version": 3
   },
   "file_extension": ".py",
   "mimetype": "text/x-python",
   "name": "python",
   "nbconvert_exporter": "python",
   "pygments_lexer": "ipython3",
   "version": "3.12.7"
  }
 },
 "nbformat": 4,
 "nbformat_minor": 5
}
