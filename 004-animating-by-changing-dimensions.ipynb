{
 "cells": [
  {
   "cell_type": "code",
   "execution_count": null,
   "id": "650bc034-24b0-45fa-b977-d709b451dbdf",
   "metadata": {},
   "outputs": [],
   "source": [
    "#animating by changing the dimensions\n",
    "from vpython import *\n",
    "pistle=cylinder(radius=1,length=1,color=color.cyan,opacity=0.5)\n",
    "while True:\n",
    "    for myLength in range(1,6):\n",
    "        rate(5) # Whenever you are changing a parameter inside a loop, you must include 'rate' in it.\n",
    "        pistle.length=myLength\n",
    "    for myLength in range(5,0,-1):\n",
    "        rate(5)\n",
    "        pistle.length=myLength\n",
    "\n",
    "#NOTE: Animation will be somewhat chunky"
   ]
  },
  {
   "cell_type": "code",
   "execution_count": null,
   "id": "48251305-892e-44f6-966e-15bfee710004",
   "metadata": {},
   "outputs": [
    {
     "data": {
      "text/html": [
       "<div id=\"glowscript\" class=\"glowscript\"></div>"
      ],
      "text/plain": [
       "<IPython.core.display.HTML object>"
      ]
     },
     "metadata": {},
     "output_type": "display_data"
    },
    {
     "data": {
      "application/javascript": [
       "if (typeof Jupyter !== \"undefined\") { window.__context = { glowscript_container: $(\"#glowscript\").removeAttr(\"id\")};}else{ element.textContent = ' ';}"
      ],
      "text/plain": [
       "<IPython.core.display.Javascript object>"
      ]
     },
     "metadata": {},
     "output_type": "display_data"
    }
   ],
   "source": [
    "#Making animation smooth using Numpy\n",
    "from vpython import *\n",
    "import numpy as np\n",
    "pistle=cylinder(radius=2,length=1,color=color.cyan,opacity=0.5)\n",
    "while True:\n",
    "    for myLength in np.linspace(1,5,1000): #start,end,no.of steps\n",
    "        rate(250) #whenevet you are changing a parameter inside a loop, you must include 'rate' in it.\n",
    "        pistle.length=myLength\n",
    "    for myLength in np.linspace(5,1,1000):\n",
    "        rate(250)\n",
    "        pistle.length=myLength"
   ]
  },
  {
   "cell_type": "code",
   "execution_count": null,
   "id": "03f3504f-5e96-42c3-83f0-32081248b1af",
   "metadata": {},
   "outputs": [
    {
     "data": {
      "text/html": [
       "<div id=\"glowscript\" class=\"glowscript\"></div>"
      ],
      "text/plain": [
       "<IPython.core.display.HTML object>"
      ]
     },
     "metadata": {},
     "output_type": "display_data"
    },
    {
     "data": {
      "application/javascript": [
       "if (typeof Jupyter !== \"undefined\") { window.__context = { glowscript_container: $(\"#glowscript\").removeAttr(\"id\")};}else{ element.textContent = ' ';}"
      ],
      "text/plain": [
       "<IPython.core.display.Javascript object>"
      ]
     },
     "metadata": {},
     "output_type": "display_data"
    }
   ],
   "source": [
    "from vpython import *\n",
    "import numpy as np\n",
    "shell=sphere(color=color.cyan)\n",
    "while True:\n",
    "    for myRadius in np.linspace(1,5,1000): #start,end,no.of steps\n",
    "        rate(250) #whenevet you are changing a parameter inside a loop, you must include 'rate' in it.\n",
    "        shell.radius=myRadius\n",
    "    for myRadius in np.linspace(5,1,1000):\n",
    "        rate(250)\n",
    "        shell.radius=myRadius\n",
    "\n",
    "#Zoom in/out to observe the animation"
   ]
  },
  {
   "cell_type": "code",
   "execution_count": null,
   "id": "cdd51492-6a65-4f2e-a7bc-9ef1a91b4281",
   "metadata": {},
   "outputs": [
    {
     "data": {
      "text/html": [
       "<div id=\"glowscript\" class=\"glowscript\"></div>"
      ],
      "text/plain": [
       "<IPython.core.display.HTML object>"
      ]
     },
     "metadata": {},
     "output_type": "display_data"
    },
    {
     "data": {
      "application/javascript": [
       "if (typeof Jupyter !== \"undefined\") { window.__context = { glowscript_container: $(\"#glowscript\").removeAttr(\"id\")};}else{ element.textContent = ' ';}"
      ],
      "text/plain": [
       "<IPython.core.display.Javascript object>"
      ]
     },
     "metadata": {},
     "output_type": "display_data"
    }
   ],
   "source": [
    "from vpython import *\n",
    "import numpy as np\n",
    "shell=sphere(color=color.blue)\n",
    "while True:\n",
    "    for myOpacity in np.linspace(1,0,1000): #start,end,no.of steps\n",
    "        rate(250) #whenevet you are changing a parameter inside a loop, you must include 'rate' in it.\n",
    "        shell.opacity=myOpacity\n",
    "    for myOpacity in np.linspace(0,1,1000):\n",
    "        rate(250)\n",
    "        shell.opacity=myOpacity"
   ]
  }
 ],
 "metadata": {
  "kernelspec": {
   "display_name": "Python 3 (ipykernel)",
   "language": "python",
   "name": "python3"
  },
  "language_info": {
   "codemirror_mode": {
    "name": "ipython",
    "version": 3
   },
   "file_extension": ".py",
   "mimetype": "text/x-python",
   "name": "python",
   "nbconvert_exporter": "python",
   "pygments_lexer": "ipython3",
   "version": "3.12.7"
  }
 },
 "nbformat": 4,
 "nbformat_minor": 5
}
