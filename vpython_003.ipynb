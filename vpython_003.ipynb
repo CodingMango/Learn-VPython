{
 "cells": [
  {
   "cell_type": "code",
   "execution_count": null,
   "id": "e156308f-a1d3-456d-b81f-8668aa8932c9",
   "metadata": {},
   "outputs": [
    {
     "data": {
      "text/html": [
       "<div id=\"glowscript\" class=\"glowscript\"></div>"
      ],
      "text/plain": [
       "<IPython.core.display.HTML object>"
      ]
     },
     "metadata": {},
     "output_type": "display_data"
    },
    {
     "data": {
      "application/javascript": [
       "if (typeof Jupyter !== \"undefined\") { window.__context = { glowscript_container: $(\"#glowscript\").removeAttr(\"id\")};}else{ element.textContent = ' ';}"
      ],
      "text/plain": [
       "<IPython.core.display.Javascript object>"
      ]
     },
     "metadata": {},
     "output_type": "display_data"
    },
    {
     "data": {
      "text/html": [
       "<div id=\"glowscript\" class=\"glowscript\"></div>"
      ],
      "text/plain": [
       "<IPython.core.display.HTML object>"
      ]
     },
     "metadata": {},
     "output_type": "display_data"
    },
    {
     "data": {
      "application/javascript": [
       "if (typeof Jupyter !== \"undefined\") { window.__context = { glowscript_container: $(\"#glowscript\").removeAttr(\"id\")};}else{ element.textContent = ' ';}"
      ],
      "text/plain": [
       "<IPython.core.display.Javascript object>"
      ]
     },
     "metadata": {},
     "output_type": "display_data"
    }
   ],
   "source": [
    "#bouncing ball(marble) animation\n",
    "from vpython import *\n",
    "canvas()\n",
    "roomDepth=10     \n",
    "roomWidth=10\n",
    "roomHeight=10\n",
    "wallThickness=0.1\n",
    "marbleRadius=1\n",
    "floor=box(pos=vector(0,-roomHeight/2,0),color=color.white,size=vector(roomWidth,wallThickness,roomDepth))\n",
    "ceilimg=box(pos=vector(0,roomHeight/2,0),color=color.white,size=vector(roomWidth,wallThickness,roomDepth))\n",
    "lWall=floor=box(pos=vector(-roomWidth/2,0,0),color=color.white,size=vector(wallThickness,roomHeight,roomDepth))\n",
    "rWall=floor=box(pos=vector(roomWidth/2,0,0),color=color.white,size=vector(wallThickness,roomHeight,roomDepth))\n",
    "bWall=floor=box(pos=vector(0,0,-roomDepth/2),color=color.white,size=vector(roomWidth,roomHeight,wallThickness))\n",
    "marble=sphere(radius=marbleRadius,color=color.red)\n",
    "xPos=0 #change these to observe the changes in the output\n",
    "yPos=0\n",
    "zPos=0\n",
    "x_delta=.1\n",
    "y_delta=.1\n",
    "z_delta=.1\n",
    "while True:\n",
    "    rate(50)\n",
    "    rme=xPos+marbleRadius #rbe-right marble edge\n",
    "    lme=xPos-marbleRadius #lbe-left marble edge\n",
    "    rwe=roomWidth/2-wallThickness/2 #rwe=right wall edge\n",
    "    lwe=-rwe #lwe=left wall edge\n",
    "\n",
    "    tme=yPos+marbleRadius #tme-top marble edge\n",
    "    dme=yPos-marbleRadius #dme- down marble edge\n",
    "    twe=roomHeight/2-wallThickness/2 #twe-top wall edge\n",
    "    dwe=-twe #dwe-down wall edge\n",
    "\n",
    "    fme=zPos+marbleRadius #fme-front marble edge\n",
    "    bme=zPos-marbleRadius #bme-back marble edge\n",
    "    fwe=roomDepth/2-wallThickness/2 #fwe-front wall edge\n",
    "    bwe=-fwe #bwe-back wall edge\n",
    "     \n",
    "    if (rme>=rwe or lme<=lwe): #to bounce, when the ball touched the left or right walls\n",
    "        x_delta*=-1\n",
    "    \n",
    "    if (tme>=twe or dme<=dwe): #to bounce, when the ball touched the ceiling or the floor\n",
    "        y_delta*=-1\n",
    "        \n",
    "    if (fme>=fwe or bme<=bwe): #to bounce, when the ball touched the front or back walls\n",
    "        z_delta*=-1\n",
    "        \n",
    "    xPos+=x_delta\n",
    "    yPos+=y_delta\n",
    "    zPos+=z_delta\n",
    "    marble.pos=vector(xPos,yPos,zPos)"
   ]
  }
 ],
 "metadata": {
  "kernelspec": {
   "display_name": "Python 3 (ipykernel)",
   "language": "python",
   "name": "python3"
  },
  "language_info": {
   "codemirror_mode": {
    "name": "ipython",
    "version": 3
   },
   "file_extension": ".py",
   "mimetype": "text/x-python",
   "name": "python",
   "nbconvert_exporter": "python",
   "pygments_lexer": "ipython3",
   "version": "3.12.7"
  }
 },
 "nbformat": 4,
 "nbformat_minor": 5
}
