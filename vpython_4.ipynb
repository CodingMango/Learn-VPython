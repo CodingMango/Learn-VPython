{
 "cells": [
  {
   "cell_type": "code",
   "execution_count": 1,
   "id": "650bc034-24b0-45fa-b977-d709b451dbdf",
   "metadata": {},
   "outputs": [
    {
     "data": {
      "text/html": [
       "<div id=\"glowscript\" class=\"glowscript\"></div>"
      ],
      "text/plain": [
       "<IPython.core.display.HTML object>"
      ]
     },
     "metadata": {},
     "output_type": "display_data"
    },
    {
     "data": {
      "application/javascript": [
       "if (typeof Jupyter !== \"undefined\") { window.__context = { glowscript_container: $(\"#glowscript\").removeAttr(\"id\")};}else{ element.textContent = ' ';}"
      ],
      "text/plain": [
       "<IPython.core.display.Javascript object>"
      ]
     },
     "metadata": {},
     "output_type": "display_data"
    },
    {
     "ename": "KeyboardInterrupt",
     "evalue": "",
     "output_type": "error",
     "traceback": [
      "\u001b[1;31m---------------------------------------------------------------------------\u001b[0m",
      "\u001b[1;31mKeyboardInterrupt\u001b[0m                         Traceback (most recent call last)",
      "Cell \u001b[1;32mIn[1], line 9\u001b[0m\n\u001b[0;32m      7\u001b[0m     pistle\u001b[38;5;241m.\u001b[39mlength\u001b[38;5;241m=\u001b[39mmyLength\n\u001b[0;32m      8\u001b[0m \u001b[38;5;28;01mfor\u001b[39;00m myLength \u001b[38;5;129;01min\u001b[39;00m \u001b[38;5;28mrange\u001b[39m(\u001b[38;5;241m5\u001b[39m,\u001b[38;5;241m0\u001b[39m,\u001b[38;5;241m-\u001b[39m\u001b[38;5;241m1\u001b[39m):\n\u001b[1;32m----> 9\u001b[0m     rate(\u001b[38;5;241m10\u001b[39m)\n\u001b[0;32m     10\u001b[0m     pistle\u001b[38;5;241m.\u001b[39mlength\u001b[38;5;241m=\u001b[39mmyLength\n",
      "File \u001b[1;32m~\\anaconda3\\Lib\\site-packages\\vpython\\rate_control.py:266\u001b[0m, in \u001b[0;36m_RateKeeper2.__call__\u001b[1;34m(self, N)\u001b[0m\n\u001b[0;32m    264\u001b[0m \u001b[38;5;28mself\u001b[39m\u001b[38;5;241m.\u001b[39mrval \u001b[38;5;241m=\u001b[39m N\n\u001b[0;32m    265\u001b[0m \u001b[38;5;28;01mif\u001b[39;00m \u001b[38;5;28mself\u001b[39m\u001b[38;5;241m.\u001b[39mrval \u001b[38;5;241m<\u001b[39m \u001b[38;5;241m1\u001b[39m: \u001b[38;5;28;01mraise\u001b[39;00m \u001b[38;5;167;01mValueError\u001b[39;00m(\u001b[38;5;124m\"\u001b[39m\u001b[38;5;124mrate value must be greater than or equal to 1\u001b[39m\u001b[38;5;124m\"\u001b[39m)\n\u001b[1;32m--> 266\u001b[0m \u001b[38;5;28msuper\u001b[39m(_RateKeeper2, \u001b[38;5;28mself\u001b[39m)\u001b[38;5;241m.\u001b[39m\u001b[38;5;21m__call__\u001b[39m(\u001b[38;5;28mself\u001b[39m\u001b[38;5;241m.\u001b[39mrval)\n",
      "File \u001b[1;32m~\\anaconda3\\Lib\\site-packages\\vpython\\rate_control.py:214\u001b[0m, in \u001b[0;36mRateKeeper.__call__\u001b[1;34m(self, maxRate)\u001b[0m\n\u001b[0;32m    212\u001b[0m \u001b[38;5;28;01mif\u001b[39;00m \u001b[38;5;28mself\u001b[39m\u001b[38;5;241m.\u001b[39mwhenToRender[\u001b[38;5;28mself\u001b[39m\u001b[38;5;241m.\u001b[39mrenderIndex] \u001b[38;5;241m==\u001b[39m \u001b[38;5;28mself\u001b[39m\u001b[38;5;241m.\u001b[39mrateCount:\n\u001b[0;32m    213\u001b[0m     sleeps \u001b[38;5;241m+\u001b[39m\u001b[38;5;241m=\u001b[39m \u001b[38;5;241m1\u001b[39m\n\u001b[1;32m--> 214\u001b[0m     _sleep(\u001b[38;5;28mself\u001b[39m\u001b[38;5;241m.\u001b[39minteractionPeriod)\n\u001b[0;32m    215\u001b[0m \u001b[38;5;28;01melse\u001b[39;00m:\n\u001b[0;32m    216\u001b[0m     \u001b[38;5;28;01mbreak\u001b[39;00m\n",
      "File \u001b[1;32m~\\anaconda3\\Lib\\site-packages\\vpython\\rate_control.py:62\u001b[0m, in \u001b[0;36m_sleep\u001b[1;34m(dt)\u001b[0m\n\u001b[0;32m     60\u001b[0m dtsleep \u001b[38;5;241m=\u001b[39m nticks\u001b[38;5;241m*\u001b[39m_tick\n\u001b[0;32m     61\u001b[0m t \u001b[38;5;241m=\u001b[39m _clock()\n\u001b[1;32m---> 62\u001b[0m time\u001b[38;5;241m.\u001b[39msleep(dtsleep)\n\u001b[0;32m     63\u001b[0m t \u001b[38;5;241m=\u001b[39m _clock()\u001b[38;5;241m-\u001b[39mt\n\u001b[0;32m     64\u001b[0m dt \u001b[38;5;241m-\u001b[39m\u001b[38;5;241m=\u001b[39m t\n",
      "\u001b[1;31mKeyboardInterrupt\u001b[0m: "
     ]
    }
   ],
   "source": [
    "#animating by changing the dimensions\n",
    "from vpython import *\n",
    "pistle=cylinder(radius=2,length=1,color=color.cyan,opacity=0.5)\n",
    "while True:\n",
    "    for myLength in range(1,6):\n",
    "        rate(10) #whenevet you are changing a parameter inside a loop, you must include 'rate' in it.\n",
    "        pistle.length=myLength\n",
    "    for myLength in range(5,0,-1):\n",
    "        rate(10)\n",
    "        pistle.length=myLength\n",
    "\n",
    "#NOTE: Animation will be some what chunky"
   ]
  },
  {
   "cell_type": "code",
   "execution_count": null,
   "id": "48251305-892e-44f6-966e-15bfee710004",
   "metadata": {},
   "outputs": [
    {
     "data": {
      "text/html": [
       "<div id=\"glowscript\" class=\"glowscript\"></div>"
      ],
      "text/plain": [
       "<IPython.core.display.HTML object>"
      ]
     },
     "metadata": {},
     "output_type": "display_data"
    },
    {
     "data": {
      "application/javascript": [
       "if (typeof Jupyter !== \"undefined\") { window.__context = { glowscript_container: $(\"#glowscript\").removeAttr(\"id\")};}else{ element.textContent = ' ';}"
      ],
      "text/plain": [
       "<IPython.core.display.Javascript object>"
      ]
     },
     "metadata": {},
     "output_type": "display_data"
    }
   ],
   "source": [
    "#Making animation smooth using Numpy\n",
    "from vpython import *\n",
    "import numpy as np\n",
    "pistle=cylinder(radius=2,length=1,color=color.cyan,opacity=0.5)\n",
    "while True:\n",
    "    for myLength in np.linspace(1,5,1000): #start,end,no.of steps\n",
    "        rate(250) #whenevet you are changing a parameter inside a loop, you must include 'rate' in it.\n",
    "        pistle.length=myLength\n",
    "    for myLength in np.linspace(5,1,1000):\n",
    "        rate(250)\n",
    "        pistle.length=myLength"
   ]
  },
  {
   "cell_type": "code",
   "execution_count": null,
   "id": "03f3504f-5e96-42c3-83f0-32081248b1af",
   "metadata": {},
   "outputs": [
    {
     "data": {
      "text/html": [
       "<div id=\"glowscript\" class=\"glowscript\"></div>"
      ],
      "text/plain": [
       "<IPython.core.display.HTML object>"
      ]
     },
     "metadata": {},
     "output_type": "display_data"
    },
    {
     "data": {
      "application/javascript": [
       "if (typeof Jupyter !== \"undefined\") { window.__context = { glowscript_container: $(\"#glowscript\").removeAttr(\"id\")};}else{ element.textContent = ' ';}"
      ],
      "text/plain": [
       "<IPython.core.display.Javascript object>"
      ]
     },
     "metadata": {},
     "output_type": "display_data"
    }
   ],
   "source": [
    "from vpython import *\n",
    "import numpy as np\n",
    "shell=sphere(color=color.cyan)\n",
    "while True:\n",
    "    for myRadius in np.linspace(1,5,1000): #start,end,no.of steps\n",
    "        rate(250) #whenevet you are changing a parameter inside a loop, you must include 'rate' in it.\n",
    "        shell.radius=myRadius\n",
    "    for myRadius in np.linspace(5,1,1000):\n",
    "        rate(250)\n",
    "        shell.radius=myRadius\n",
    "\n",
    "#Zoom in/out to observe the animation"
   ]
  },
  {
   "cell_type": "code",
   "execution_count": null,
   "id": "cdd51492-6a65-4f2e-a7bc-9ef1a91b4281",
   "metadata": {},
   "outputs": [
    {
     "data": {
      "text/html": [
       "<div id=\"glowscript\" class=\"glowscript\"></div>"
      ],
      "text/plain": [
       "<IPython.core.display.HTML object>"
      ]
     },
     "metadata": {},
     "output_type": "display_data"
    },
    {
     "data": {
      "application/javascript": [
       "if (typeof Jupyter !== \"undefined\") { window.__context = { glowscript_container: $(\"#glowscript\").removeAttr(\"id\")};}else{ element.textContent = ' ';}"
      ],
      "text/plain": [
       "<IPython.core.display.Javascript object>"
      ]
     },
     "metadata": {},
     "output_type": "display_data"
    }
   ],
   "source": [
    "from vpython import *\n",
    "import numpy as np\n",
    "shell=sphere(color=color.blue)\n",
    "while True:\n",
    "    for myOpacity in np.linspace(1,0,1000): #start,end,no.of steps\n",
    "        rate(250) #whenevet you are changing a parameter inside a loop, you must include 'rate' in it.\n",
    "        shell.opacity=myOpacity\n",
    "    for myOpacity in np.linspace(0,1,1000):\n",
    "        rate(250)\n",
    "        shell.opacity=myOpacity"
   ]
  }
 ],
 "metadata": {
  "kernelspec": {
   "display_name": "Python 3 (ipykernel)",
   "language": "python",
   "name": "python3"
  },
  "language_info": {
   "codemirror_mode": {
    "name": "ipython",
    "version": 3
   },
   "file_extension": ".py",
   "mimetype": "text/x-python",
   "name": "python",
   "nbconvert_exporter": "python",
   "pygments_lexer": "ipython3",
   "version": "3.12.7"
  }
 },
 "nbformat": 4,
 "nbformat_minor": 5
}
