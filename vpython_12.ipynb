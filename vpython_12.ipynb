{
 "cells": [
  {
   "cell_type": "code",
   "execution_count": 2,
   "id": "253cdac9-7894-4217-8d9c-ac748df01b55",
   "metadata": {},
   "outputs": [
    {
     "data": {
      "text/html": [
       "<div id=\"glowscript\" class=\"glowscript\"></div>"
      ],
      "text/plain": [
       "<IPython.core.display.HTML object>"
      ]
     },
     "metadata": {},
     "output_type": "display_data"
    },
    {
     "data": {
      "application/javascript": [
       "if (typeof Jupyter !== \"undefined\") { window.__context = { glowscript_container: $(\"#glowscript\").removeAttr(\"id\")};}else{ element.textContent = ' ';}"
      ],
      "text/plain": [
       "<IPython.core.display.Javascript object>"
      ]
     },
     "metadata": {},
     "output_type": "display_data"
    }
   ],
   "source": [
    "#labels\n",
    "from vpython import *\n",
    "canvas()\n",
    "myLabel=label(text='vpython',box=False) \n",
    "#for LABELS:-\n",
    "#2D overlay (HUD-style)\n",
    "#Always faces the camera, not rotatable\n",
    "#Lightweight and efficient\n",
    "#Not affected by scene lighting\n",
    "#Stays screen-aligned regardless of camera"
   ]
  },
  {
   "cell_type": "code",
   "execution_count": 3,
   "id": "3d3a965a-7fec-4535-a3c8-39d9f9f2e764",
   "metadata": {},
   "outputs": [
    {
     "data": {
      "text/html": [
       "<div id=\"glowscript\" class=\"glowscript\"></div>"
      ],
      "text/plain": [
       "<IPython.core.display.HTML object>"
      ]
     },
     "metadata": {},
     "output_type": "display_data"
    },
    {
     "data": {
      "application/javascript": [
       "if (typeof Jupyter !== \"undefined\") { window.__context = { glowscript_container: $(\"#glowscript\").removeAttr(\"id\")};}else{ element.textContent = ' ';}"
      ],
      "text/plain": [
       "<IPython.core.display.Javascript object>"
      ]
     },
     "metadata": {},
     "output_type": "display_data"
    }
   ],
   "source": [
    "from vpython import *\n",
    "canvas()\n",
    "myLabel=label(\n",
    "    text='Hello, VPython!',\n",
    "    pos=vector(0,1,0),\n",
    "    box=True,\n",
    "    background=color.white,\n",
    "    opacity=0.5,\n",
    "    border=10,\n",
    "    line=False,\n",
    "    linecolor=color.cyan,\n",
    "    linewidth=2\n",
    ")"
   ]
  },
  {
   "cell_type": "code",
   "execution_count": null,
   "id": "948ec698-60c4-4baf-8e25-60f47519b2fe",
   "metadata": {},
   "outputs": [
    {
     "data": {
      "text/html": [
       "<div id=\"glowscript\" class=\"glowscript\"></div>"
      ],
      "text/plain": [
       "<IPython.core.display.HTML object>"
      ]
     },
     "metadata": {},
     "output_type": "display_data"
    },
    {
     "data": {
      "application/javascript": [
       "if (typeof Jupyter !== \"undefined\") { window.__context = { glowscript_container: $(\"#glowscript\").removeAttr(\"id\")};}else{ element.textContent = ' ';}"
      ],
      "text/plain": [
       "<IPython.core.display.Javascript object>"
      ]
     },
     "metadata": {},
     "output_type": "display_data"
    }
   ],
   "source": [
    "from vpython import *\n",
    "import numpy as np\n",
    "canvas()\n",
    "naturalSatellite=sphere(color=vector(0.5,0.5,0.5),radius=0.5,make_trail=True,trail_color=color.white)\n",
    "label(\n",
    "    text='Orbiting Satellite',\n",
    "    pos=vector(2,0,0),\n",
    "    xoffset=90,\n",
    "    yoffset=30,\n",
    "    line=True,\n",
    "    linecolor=color.cyan,\n",
    "    linewidth=2\n",
    ")\n",
    "                                            #NOTE: Rotate scece with mousse to observe the rotation, notice label stays unaffected\n",
    "while True:\n",
    "    for theta in np.linspace(0,2*np.pi,10000):\n",
    "        naturalSatellite.pos=vector(2*np.cos(theta),0,2*np.sin(theta))\n",
    "        rate(1000)"
   ]
  },
  {
   "cell_type": "code",
   "execution_count": null,
   "id": "6cee5061-561e-4872-b87d-0462525a1af4",
   "metadata": {},
   "outputs": [],
   "source": [
    "#Text\n",
    "from vpython import *\n",
    "\n",
    "scene.background = color.black\n",
    "scene.title = \"3D Text in VPython\"\n",
    "\n",
    "# Creating a 3D text object\n",
    "title_text = text(\n",
    "    text=\"Satellite\",          # The string to display\n",
    "    pos=vector(-2, 1, 0),      # Position of the lower-left corner\n",
    "    align=\"center\",            # \"left\", \"center\", or \"right\"\n",
    "    height=1,                  # Height of the capital letters\n",
    "    depth=0.3,                 # Thickness into/outof the screen (Z-axis)\n",
    "    color=color.cyan,          # Color of the text\n",
    "    emissive=True,             # Makes it glow unaffected by lighting\n",
    "    axis=vector(1, 0, 0),      # Direction in which the text extends\n",
    "    up=vector(0, 1, 0),        # Up direction for orientation\n",
    "    opacity=1.0                # 1.0 = fully visible, 0.0 = invisible\n",
    ")\n",
    "\n",
    "# Animate rotation of the text\n",
    "while True:\n",
    "    rate(30)\n",
    "    title_text.rotate(angle=0.02, axis=vector(0, 1, 0), origin=title_text.pos) #here the 'axis' command specifies \"axis around which the object rotates\"\n",
    "\n",
    "            #for TEXT:-\n",
    "#3D object\n",
    "#Fully rotatable like any 3D shape\n",
    "#Computationally heavier\n",
    "#Can interact with lighting, shadows"
   ]
  },
  {
   "cell_type": "code",
   "execution_count": 1,
   "id": "f895b3f4-7df5-41a8-be7e-fdc9fd062bc7",
   "metadata": {},
   "outputs": [
    {
     "data": {
      "text/html": [
       "<div id=\"glowscript\" class=\"glowscript\"></div>"
      ],
      "text/plain": [
       "<IPython.core.display.HTML object>"
      ]
     },
     "metadata": {},
     "output_type": "display_data"
    },
    {
     "data": {
      "application/javascript": [
       "if (typeof Jupyter !== \"undefined\") { window.__context = { glowscript_container: $(\"#glowscript\").removeAttr(\"id\")};}else{ element.textContent = ' ';}"
      ],
      "text/plain": [
       "<IPython.core.display.Javascript object>"
      ]
     },
     "metadata": {},
     "output_type": "display_data"
    },
    {
     "data": {
      "text/html": [
       "<div id=\"glowscript\" class=\"glowscript\"></div>"
      ],
      "text/plain": [
       "<IPython.core.display.HTML object>"
      ]
     },
     "metadata": {},
     "output_type": "display_data"
    },
    {
     "data": {
      "application/javascript": [
       "if (typeof Jupyter !== \"undefined\") { window.__context = { glowscript_container: $(\"#glowscript\").removeAttr(\"id\")};}else{ element.textContent = ' ';}"
      ],
      "text/plain": [
       "<IPython.core.display.Javascript object>"
      ]
     },
     "metadata": {},
     "output_type": "display_data"
    },
    {
     "data": {
      "text/plain": [
       "'   \\nwhile True:\\n    rate(1)\\n    myTime=time.localtime(time.time())\\n    secAngle=np.pi/2-(2*np.pi/60*myTime[5])\\n    minInc=(2*np.pi/60/60)*myTime[5]\\n    minAngle=np.pi/2-(2*np.pi/60*myTime[4]) - minInc\\n    hourInc=((2*np.pi/12)/60)*myTime[4]\\n    hourAngle=np.pi/2-(2*np.pi/12*(myTime[3]%12)) - hourInc\\n    \\n    #for min hand movement\\n    minHand.axis=vector(np.cos(minAngle),np.sin(minAngle),0)\\n    minHand.length=faceRad-tickLength*2\\n    \\n    secHand.axis=vector(np.cos(secAngle),np.sin(secAngle),0)\\n    secHand.length=faceRad-tickLength*2\\n\\n    hourHand.axis=vector(np.cos(hourAngle),np.sin(hourAngle),0)\\n    hourHand.length=faceRad-tickLength*2'"
      ]
     },
     "execution_count": 1,
     "metadata": {},
     "output_type": "execute_result"
    }
   ],
   "source": [
    "from vpython import *\n",
    "import numpy as np\n",
    "import time\n",
    "canvas()\n",
    "faceRad=5\n",
    "faceThickness=0.5\n",
    "tickLength=faceRad/25\n",
    "tickHeight=tickLength/2\n",
    "tickWidth=faceThickness/2.25\n",
    "border=cylinder(axis=vector(0,0,1),length=faceThickness-0.05, radius=faceRad*1.075,color=color.red)#border should be placed before than the clock's face.\n",
    "face=cylinder(axis=vector(0,0,1),length=faceThickness, radius=faceRad,color=color.orange)\n",
    "pivot=cylinder(axis=vector(0,0,1),length=faceThickness/2,radius=faceRad/20,color=color.black,pos=vector(0,0,faceThickness))\n",
    "#for ticks\n",
    "for i, angle in enumerate(np.linspace(0,2*np.pi,60,endpoint=False)):\n",
    "    if i%5!=0:\n",
    "        box(length=tickLength,height=tickHeight,width=tickWidth,color=color.black,axis=vector(np.cos(angle),np.sin(angle),0),pos=vector(np.cos(angle)*(faceRad-tickLength),np.sin(angle)*(faceRad-tickLength),faceThickness))\n",
    "    if i%5==0:\n",
    "        box(length=tickLength*2,height=tickHeight,width=tickWidth,color=color.black,axis=vector(np.cos(angle),np.sin(angle),0),pos=vector(np.cos(angle)*(faceRad-tickLength),np.sin(angle)*(faceRad-tickLength),faceThickness))\n",
    "#minute hand\n",
    "minHand=cylinder(length=faceRad*0.4-tickLength*2,height=faceRad/30,width=faceThickness/2, color=color.orange,pos=vector(0,0,faceThickness*1.25))\n",
    "#hour hand\n",
    "hourHand=cylinder(length=faceRad*0.9-tickLength*2,height=faceRad/20,width=faceThickness/2, color=color.red,pos=vector(0,0,faceThickness*1.25))\n",
    "#second hand\n",
    "secHand=cylinder(length=faceRad-tickLength*2,height=faceRad/40,width=faceThickness/2, color=vector(1,1,0),pos=vector(0,0,faceThickness*1.25))\n",
    "#for text\n",
    "name=text(text='Clock',height=faceRad/5,depth=faceThickness,color=color.white,align='center',pos=vector(0,faceRad*1.08,0))\n",
    "numH=faceRad/15\n",
    "numT=faceThickness/7\n",
    "numAngle=np.pi/3\n",
    "numInc=-np.pi/6\n",
    "for i in range(1,13):\n",
    "    num=text(text=str(i),color=color.black,depth=numT,pos=vector(np.cos(numAngle)*faceRad*0.8,np.sin(numAngle)*faceRad*0.8-numH,faceThickness),align='center')\n",
    "    numAngle+=numInc\n",
    "  \n",
    "while True:\n",
    "    rate(1)\n",
    "    myTime=time.localtime(time.time())\n",
    "    secAngle=np.pi/2-(2*np.pi/60*myTime[5])\n",
    "    minInc=(2*np.pi/60/60)*myTime[5]\n",
    "    minAngle=np.pi/2-(2*np.pi/60*myTime[4]) - minInc\n",
    "    hourInc=((2*np.pi/12)/60)*myTime[4]\n",
    "    hourAngle=np.pi/2-(2*np.pi/12*(myTime[3]%12)) - hourInc\n",
    "    \n",
    "    #for min hand movement\n",
    "    minHand.axis=vector(np.cos(minAngle),np.sin(minAngle),0)\n",
    "    minHand.length=faceRad-tickLength*2\n",
    "    \n",
    "    secHand.axis=vector(np.cos(secAngle),np.sin(secAngle),0)\n",
    "    secHand.length=faceRad-tickLength*2\n",
    "\n",
    "    hourHand.axis=vector(np.cos(hourAngle),np.sin(hourAngle),0)\n",
    "    hourHand.length=faceRad-tickLength*"
   ]
  }
 ],
 "metadata": {
  "kernelspec": {
   "display_name": "Python 3 (ipykernel)",
   "language": "python",
   "name": "python3"
  },
  "language_info": {
   "codemirror_mode": {
    "name": "ipython",
    "version": 3
   },
   "file_extension": ".py",
   "mimetype": "text/x-python",
   "name": "python",
   "nbconvert_exporter": "python",
   "pygments_lexer": "ipython3",
   "version": "3.12.7"
  }
 },
 "nbformat": 4,
 "nbformat_minor": 5
}
